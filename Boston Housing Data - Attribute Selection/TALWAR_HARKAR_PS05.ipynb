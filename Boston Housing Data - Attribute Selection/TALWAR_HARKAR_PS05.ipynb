{
 "cells": [
  {
   "cell_type": "markdown",
   "metadata": {},
   "source": [
    "## INFX574 Problem Set 5 ##\n",
    "#### Deadline: Wed, May 23rd, 5:30pm ####\n",
    "#### Submitted By: Harkar Talwar####"
   ]
  },
  {
   "cell_type": "code",
   "execution_count": 1,
   "metadata": {},
   "outputs": [],
   "source": [
    "# import required modules\n",
    "import pandas as pd\n",
    "import numpy as np\n",
    "import matplotlib.pyplot as plt\n",
    "import statsmodels.formula.api as smf\n",
    "import time\n",
    "import sys\n",
    "%matplotlib inline\n",
    "from sklearn.datasets import load_boston\n",
    "from sklearn.datasets import load_breast_cancer\n",
    "from sklearn.linear_model import LinearRegression\n",
    "from sklearn.metrics import mean_squared_error\n",
    "from sklearn.decomposition import PCA"
   ]
  },
  {
   "cell_type": "markdown",
   "metadata": {},
   "source": [
    "### 1. Active data exploration ###"
   ]
  },
  {
   "cell_type": "markdown",
   "metadata": {},
   "source": [
    "#### 1. Load the data. It is included in sklearn.datasets and you can and many copies on the internet too. Make sure you know the coding of all variables. In particular, you should be aware if a variable is categorical or numeric. Explain the coding scheme if it's not obvious. ####"
   ]
  },
  {
   "cell_type": "code",
   "execution_count": 2,
   "metadata": {},
   "outputs": [],
   "source": [
    "boston_housing = load_boston() # load the dataset\n",
    "boston_df = pd.DataFrame(data=boston_housing.data, columns=boston_housing.feature_names) # create a dataframe\n",
    "boston_df['MEDV'] = boston_housing.target # Add the outcome variable (median house value)"
   ]
  },
  {
   "cell_type": "code",
   "execution_count": 3,
   "metadata": {},
   "outputs": [
    {
     "data": {
      "text/html": [
       "<div>\n",
       "<style scoped>\n",
       "    .dataframe tbody tr th:only-of-type {\n",
       "        vertical-align: middle;\n",
       "    }\n",
       "\n",
       "    .dataframe tbody tr th {\n",
       "        vertical-align: top;\n",
       "    }\n",
       "\n",
       "    .dataframe thead th {\n",
       "        text-align: right;\n",
       "    }\n",
       "</style>\n",
       "<table border=\"1\" class=\"dataframe\">\n",
       "  <thead>\n",
       "    <tr style=\"text-align: right;\">\n",
       "      <th></th>\n",
       "      <th>CRIM</th>\n",
       "      <th>ZN</th>\n",
       "      <th>INDUS</th>\n",
       "      <th>CHAS</th>\n",
       "      <th>NOX</th>\n",
       "      <th>RM</th>\n",
       "      <th>AGE</th>\n",
       "      <th>DIS</th>\n",
       "      <th>RAD</th>\n",
       "      <th>TAX</th>\n",
       "      <th>PTRATIO</th>\n",
       "      <th>B</th>\n",
       "      <th>LSTAT</th>\n",
       "      <th>MEDV</th>\n",
       "    </tr>\n",
       "  </thead>\n",
       "  <tbody>\n",
       "    <tr>\n",
       "      <th>0</th>\n",
       "      <td>0.00632</td>\n",
       "      <td>18.0</td>\n",
       "      <td>2.31</td>\n",
       "      <td>0.0</td>\n",
       "      <td>0.538</td>\n",
       "      <td>6.575</td>\n",
       "      <td>65.2</td>\n",
       "      <td>4.0900</td>\n",
       "      <td>1.0</td>\n",
       "      <td>296.0</td>\n",
       "      <td>15.3</td>\n",
       "      <td>396.90</td>\n",
       "      <td>4.98</td>\n",
       "      <td>24.0</td>\n",
       "    </tr>\n",
       "    <tr>\n",
       "      <th>1</th>\n",
       "      <td>0.02731</td>\n",
       "      <td>0.0</td>\n",
       "      <td>7.07</td>\n",
       "      <td>0.0</td>\n",
       "      <td>0.469</td>\n",
       "      <td>6.421</td>\n",
       "      <td>78.9</td>\n",
       "      <td>4.9671</td>\n",
       "      <td>2.0</td>\n",
       "      <td>242.0</td>\n",
       "      <td>17.8</td>\n",
       "      <td>396.90</td>\n",
       "      <td>9.14</td>\n",
       "      <td>21.6</td>\n",
       "    </tr>\n",
       "    <tr>\n",
       "      <th>2</th>\n",
       "      <td>0.02729</td>\n",
       "      <td>0.0</td>\n",
       "      <td>7.07</td>\n",
       "      <td>0.0</td>\n",
       "      <td>0.469</td>\n",
       "      <td>7.185</td>\n",
       "      <td>61.1</td>\n",
       "      <td>4.9671</td>\n",
       "      <td>2.0</td>\n",
       "      <td>242.0</td>\n",
       "      <td>17.8</td>\n",
       "      <td>392.83</td>\n",
       "      <td>4.03</td>\n",
       "      <td>34.7</td>\n",
       "    </tr>\n",
       "    <tr>\n",
       "      <th>3</th>\n",
       "      <td>0.03237</td>\n",
       "      <td>0.0</td>\n",
       "      <td>2.18</td>\n",
       "      <td>0.0</td>\n",
       "      <td>0.458</td>\n",
       "      <td>6.998</td>\n",
       "      <td>45.8</td>\n",
       "      <td>6.0622</td>\n",
       "      <td>3.0</td>\n",
       "      <td>222.0</td>\n",
       "      <td>18.7</td>\n",
       "      <td>394.63</td>\n",
       "      <td>2.94</td>\n",
       "      <td>33.4</td>\n",
       "    </tr>\n",
       "    <tr>\n",
       "      <th>4</th>\n",
       "      <td>0.06905</td>\n",
       "      <td>0.0</td>\n",
       "      <td>2.18</td>\n",
       "      <td>0.0</td>\n",
       "      <td>0.458</td>\n",
       "      <td>7.147</td>\n",
       "      <td>54.2</td>\n",
       "      <td>6.0622</td>\n",
       "      <td>3.0</td>\n",
       "      <td>222.0</td>\n",
       "      <td>18.7</td>\n",
       "      <td>396.90</td>\n",
       "      <td>5.33</td>\n",
       "      <td>36.2</td>\n",
       "    </tr>\n",
       "  </tbody>\n",
       "</table>\n",
       "</div>"
      ],
      "text/plain": [
       "      CRIM    ZN  INDUS  CHAS    NOX     RM   AGE     DIS  RAD    TAX  \\\n",
       "0  0.00632  18.0   2.31   0.0  0.538  6.575  65.2  4.0900  1.0  296.0   \n",
       "1  0.02731   0.0   7.07   0.0  0.469  6.421  78.9  4.9671  2.0  242.0   \n",
       "2  0.02729   0.0   7.07   0.0  0.469  7.185  61.1  4.9671  2.0  242.0   \n",
       "3  0.03237   0.0   2.18   0.0  0.458  6.998  45.8  6.0622  3.0  222.0   \n",
       "4  0.06905   0.0   2.18   0.0  0.458  7.147  54.2  6.0622  3.0  222.0   \n",
       "\n",
       "   PTRATIO       B  LSTAT  MEDV  \n",
       "0     15.3  396.90   4.98  24.0  \n",
       "1     17.8  396.90   9.14  21.6  \n",
       "2     17.8  392.83   4.03  34.7  \n",
       "3     18.7  394.63   2.94  33.4  \n",
       "4     18.7  396.90   5.33  36.2  "
      ]
     },
     "execution_count": 3,
     "metadata": {},
     "output_type": "execute_result"
    }
   ],
   "source": [
    "boston_df.head() # explore some rows"
   ]
  },
  {
   "cell_type": "markdown",
   "metadata": {},
   "source": [
    "**There are two features which are categorical in nature and warrant some explanation of the coding scheme**"
   ]
  },
  {
   "cell_type": "markdown",
   "metadata": {},
   "source": [
    "**CHAS: Charles River dummy variable (= 1 if tract bounds river; 0 otherwise)**"
   ]
  },
  {
   "cell_type": "code",
   "execution_count": 4,
   "metadata": {},
   "outputs": [
    {
     "data": {
      "text/plain": [
       "array([0., 1.])"
      ]
     },
     "execution_count": 4,
     "metadata": {},
     "output_type": "execute_result"
    }
   ],
   "source": [
    "boston_df['CHAS'].unique()"
   ]
  },
  {
   "cell_type": "markdown",
   "metadata": {},
   "source": [
    "**RAD: index of accessibility to radial highways (ordinal in nature)**"
   ]
  },
  {
   "cell_type": "code",
   "execution_count": 5,
   "metadata": {},
   "outputs": [
    {
     "data": {
      "text/plain": [
       "array([ 1.,  2.,  3.,  5.,  4.,  8.,  6.,  7., 24.])"
      ]
     },
     "execution_count": 5,
     "metadata": {},
     "output_type": "execute_result"
    }
   ],
   "source": [
    "boston_df['RAD'].unique()"
   ]
  },
  {
   "cell_type": "markdown",
   "metadata": {},
   "source": [
    "#### 2. Add some (10 or so) engineered features (synthetic features) to the data. As in the previous problem set, you may use various mathematical operations on a single or multiple features to create new ones. ####"
   ]
  },
  {
   "cell_type": "code",
   "execution_count": 6,
   "metadata": {},
   "outputs": [
    {
     "data": {
      "text/html": [
       "<div>\n",
       "<style scoped>\n",
       "    .dataframe tbody tr th:only-of-type {\n",
       "        vertical-align: middle;\n",
       "    }\n",
       "\n",
       "    .dataframe tbody tr th {\n",
       "        vertical-align: top;\n",
       "    }\n",
       "\n",
       "    .dataframe thead th {\n",
       "        text-align: right;\n",
       "    }\n",
       "</style>\n",
       "<table border=\"1\" class=\"dataframe\">\n",
       "  <thead>\n",
       "    <tr style=\"text-align: right;\">\n",
       "      <th></th>\n",
       "      <th>CRIM</th>\n",
       "      <th>ZN</th>\n",
       "      <th>INDUS</th>\n",
       "      <th>CHAS</th>\n",
       "      <th>NOX</th>\n",
       "      <th>RM</th>\n",
       "      <th>AGE</th>\n",
       "      <th>DIS</th>\n",
       "      <th>RAD</th>\n",
       "      <th>TAX</th>\n",
       "      <th>...</th>\n",
       "      <th>E1</th>\n",
       "      <th>E2</th>\n",
       "      <th>E3</th>\n",
       "      <th>E4</th>\n",
       "      <th>E5</th>\n",
       "      <th>E6</th>\n",
       "      <th>E7</th>\n",
       "      <th>E8</th>\n",
       "      <th>E9</th>\n",
       "      <th>E10</th>\n",
       "    </tr>\n",
       "  </thead>\n",
       "  <tbody>\n",
       "    <tr>\n",
       "      <th>0</th>\n",
       "      <td>0.00632</td>\n",
       "      <td>18.0</td>\n",
       "      <td>2.31</td>\n",
       "      <td>0.0</td>\n",
       "      <td>0.538</td>\n",
       "      <td>6.575</td>\n",
       "      <td>65.2</td>\n",
       "      <td>4.0900</td>\n",
       "      <td>1.0</td>\n",
       "      <td>296.0</td>\n",
       "      <td>...</td>\n",
       "      <td>5.983684</td>\n",
       "      <td>5.690359</td>\n",
       "      <td>1</td>\n",
       "      <td>1.87072</td>\n",
       "      <td>2.508408</td>\n",
       "      <td>5.3361</td>\n",
       "      <td>43.230625</td>\n",
       "      <td>0</td>\n",
       "      <td>7.995041</td>\n",
       "      <td>8.2314</td>\n",
       "    </tr>\n",
       "    <tr>\n",
       "      <th>1</th>\n",
       "      <td>0.02731</td>\n",
       "      <td>0.0</td>\n",
       "      <td>7.07</td>\n",
       "      <td>0.0</td>\n",
       "      <td>0.469</td>\n",
       "      <td>6.421</td>\n",
       "      <td>78.9</td>\n",
       "      <td>4.9671</td>\n",
       "      <td>2.0</td>\n",
       "      <td>242.0</td>\n",
       "      <td>...</td>\n",
       "      <td>5.983684</td>\n",
       "      <td>5.488938</td>\n",
       "      <td>1</td>\n",
       "      <td>6.60902</td>\n",
       "      <td>10.839339</td>\n",
       "      <td>49.9849</td>\n",
       "      <td>41.229241</td>\n",
       "      <td>0</td>\n",
       "      <td>20.223716</td>\n",
       "      <td>8.3482</td>\n",
       "    </tr>\n",
       "    <tr>\n",
       "      <th>2</th>\n",
       "      <td>0.02729</td>\n",
       "      <td>0.0</td>\n",
       "      <td>7.07</td>\n",
       "      <td>0.0</td>\n",
       "      <td>0.469</td>\n",
       "      <td>7.185</td>\n",
       "      <td>61.1</td>\n",
       "      <td>4.9671</td>\n",
       "      <td>2.0</td>\n",
       "      <td>242.0</td>\n",
       "      <td>...</td>\n",
       "      <td>5.973377</td>\n",
       "      <td>5.488938</td>\n",
       "      <td>1</td>\n",
       "      <td>6.60418</td>\n",
       "      <td>10.720331</td>\n",
       "      <td>49.9849</td>\n",
       "      <td>51.624225</td>\n",
       "      <td>0</td>\n",
       "      <td>5.616878</td>\n",
       "      <td>8.3482</td>\n",
       "    </tr>\n",
       "    <tr>\n",
       "      <th>3</th>\n",
       "      <td>0.03237</td>\n",
       "      <td>0.0</td>\n",
       "      <td>2.18</td>\n",
       "      <td>0.0</td>\n",
       "      <td>0.458</td>\n",
       "      <td>6.998</td>\n",
       "      <td>45.8</td>\n",
       "      <td>6.0622</td>\n",
       "      <td>3.0</td>\n",
       "      <td>222.0</td>\n",
       "      <td>...</td>\n",
       "      <td>5.977949</td>\n",
       "      <td>5.402677</td>\n",
       "      <td>1</td>\n",
       "      <td>7.18614</td>\n",
       "      <td>12.774173</td>\n",
       "      <td>4.7524</td>\n",
       "      <td>48.972004</td>\n",
       "      <td>0</td>\n",
       "      <td>3.170524</td>\n",
       "      <td>8.5646</td>\n",
       "    </tr>\n",
       "    <tr>\n",
       "      <th>4</th>\n",
       "      <td>0.06905</td>\n",
       "      <td>0.0</td>\n",
       "      <td>2.18</td>\n",
       "      <td>0.0</td>\n",
       "      <td>0.458</td>\n",
       "      <td>7.147</td>\n",
       "      <td>54.2</td>\n",
       "      <td>6.0622</td>\n",
       "      <td>3.0</td>\n",
       "      <td>222.0</td>\n",
       "      <td>...</td>\n",
       "      <td>5.983684</td>\n",
       "      <td>5.402677</td>\n",
       "      <td>1</td>\n",
       "      <td>15.32910</td>\n",
       "      <td>27.405945</td>\n",
       "      <td>4.7524</td>\n",
       "      <td>51.079609</td>\n",
       "      <td>0</td>\n",
       "      <td>8.918962</td>\n",
       "      <td>8.5646</td>\n",
       "    </tr>\n",
       "  </tbody>\n",
       "</table>\n",
       "<p>5 rows × 24 columns</p>\n",
       "</div>"
      ],
      "text/plain": [
       "      CRIM    ZN  INDUS  CHAS    NOX     RM   AGE     DIS  RAD    TAX   ...    \\\n",
       "0  0.00632  18.0   2.31   0.0  0.538  6.575  65.2  4.0900  1.0  296.0   ...     \n",
       "1  0.02731   0.0   7.07   0.0  0.469  6.421  78.9  4.9671  2.0  242.0   ...     \n",
       "2  0.02729   0.0   7.07   0.0  0.469  7.185  61.1  4.9671  2.0  242.0   ...     \n",
       "3  0.03237   0.0   2.18   0.0  0.458  6.998  45.8  6.0622  3.0  222.0   ...     \n",
       "4  0.06905   0.0   2.18   0.0  0.458  7.147  54.2  6.0622  3.0  222.0   ...     \n",
       "\n",
       "         E1        E2  E3        E4         E5       E6         E7  E8  \\\n",
       "0  5.983684  5.690359   1   1.87072   2.508408   5.3361  43.230625   0   \n",
       "1  5.983684  5.488938   1   6.60902  10.839339  49.9849  41.229241   0   \n",
       "2  5.973377  5.488938   1   6.60418  10.720331  49.9849  51.624225   0   \n",
       "3  5.977949  5.402677   1   7.18614  12.774173   4.7524  48.972004   0   \n",
       "4  5.983684  5.402677   1  15.32910  27.405945   4.7524  51.079609   0   \n",
       "\n",
       "          E9     E10  \n",
       "0   7.995041  8.2314  \n",
       "1  20.223716  8.3482  \n",
       "2   5.616878  8.3482  \n",
       "3   3.170524  8.5646  \n",
       "4   8.918962  8.5646  \n",
       "\n",
       "[5 rows x 24 columns]"
      ]
     },
     "execution_count": 6,
     "metadata": {},
     "output_type": "execute_result"
    }
   ],
   "source": [
    "boston_df['E1'] = np.log(boston_df['B'])\n",
    "boston_df['E2'] = np.log(boston_df['TAX'])\n",
    "boston_df['E3'] = (boston_df['AGE'] > 30) + 0\n",
    "boston_df['E4'] = boston_df['CRIM'] * boston_df['TAX']\n",
    "boston_df['E5'] = boston_df['CRIM'] * boston_df['B']\n",
    "boston_df['E6'] = boston_df['INDUS'] ** 2\n",
    "boston_df['E7'] = boston_df['RM'] ** 2\n",
    "boston_df['E8'] = (boston_df['LSTAT'] > 18) + 0\n",
    "boston_df['E9'] = boston_df['LSTAT'] * np.log(boston_df['LSTAT'])\n",
    "boston_df['E10'] = boston_df['PTRATIO'] * boston_df['NOX']\n",
    "boston_df.head()"
   ]
  },
  {
   "cell_type": "markdown",
   "metadata": {},
   "source": [
    "#### 3. Add another set (10 or so) bogus features, variables that have no relationship whatsoever to Boston housing market. You may just pick random numbers, or numbers from irrelevant sources, such as population of Chinese cities or baseball scores of yesteryear. Give these features distinct names (such as B1-B10) so you (and the reader) can easily recognize these later. You should have about 35 features in your data now.####"
   ]
  },
  {
   "cell_type": "code",
   "execution_count": 7,
   "metadata": {},
   "outputs": [
    {
     "data": {
      "text/plain": [
       "(506, 24)"
      ]
     },
     "execution_count": 7,
     "metadata": {},
     "output_type": "execute_result"
    }
   ],
   "source": [
    "boston_df.shape # explore the shape of our Boston housing data"
   ]
  },
  {
   "cell_type": "markdown",
   "metadata": {},
   "source": [
    "**Here we will add Bogus features from the cellular nuclei data of the Wisconsin Breast Cancer (Diagnostic) Data Set**"
   ]
  },
  {
   "cell_type": "code",
   "execution_count": 8,
   "metadata": {},
   "outputs": [],
   "source": [
    "cancer_data = load_breast_cancer().data  # load the cancer data set features\n",
    "rows, cols = cancer_data.shape  # store the shape of the cancer data"
   ]
  },
  {
   "cell_type": "code",
   "execution_count": 9,
   "metadata": {},
   "outputs": [],
   "source": [
    "# add new bogus features to the boston data set, based on features in the cancer data\n",
    "for i in range(10):\n",
    "    boston_df['B'+str(i+1)] = cancer_data[:506,i+2]"
   ]
  },
  {
   "cell_type": "code",
   "execution_count": 10,
   "metadata": {},
   "outputs": [
    {
     "data": {
      "text/html": [
       "<div>\n",
       "<style scoped>\n",
       "    .dataframe tbody tr th:only-of-type {\n",
       "        vertical-align: middle;\n",
       "    }\n",
       "\n",
       "    .dataframe tbody tr th {\n",
       "        vertical-align: top;\n",
       "    }\n",
       "\n",
       "    .dataframe thead th {\n",
       "        text-align: right;\n",
       "    }\n",
       "</style>\n",
       "<table border=\"1\" class=\"dataframe\">\n",
       "  <thead>\n",
       "    <tr style=\"text-align: right;\">\n",
       "      <th></th>\n",
       "      <th>CRIM</th>\n",
       "      <th>ZN</th>\n",
       "      <th>INDUS</th>\n",
       "      <th>CHAS</th>\n",
       "      <th>NOX</th>\n",
       "      <th>RM</th>\n",
       "      <th>AGE</th>\n",
       "      <th>DIS</th>\n",
       "      <th>RAD</th>\n",
       "      <th>TAX</th>\n",
       "      <th>...</th>\n",
       "      <th>B1</th>\n",
       "      <th>B2</th>\n",
       "      <th>B3</th>\n",
       "      <th>B4</th>\n",
       "      <th>B5</th>\n",
       "      <th>B6</th>\n",
       "      <th>B7</th>\n",
       "      <th>B8</th>\n",
       "      <th>B9</th>\n",
       "      <th>B10</th>\n",
       "    </tr>\n",
       "  </thead>\n",
       "  <tbody>\n",
       "    <tr>\n",
       "      <th>0</th>\n",
       "      <td>0.00632</td>\n",
       "      <td>18.0</td>\n",
       "      <td>2.31</td>\n",
       "      <td>0.0</td>\n",
       "      <td>0.538</td>\n",
       "      <td>6.575</td>\n",
       "      <td>65.2</td>\n",
       "      <td>4.0900</td>\n",
       "      <td>1.0</td>\n",
       "      <td>296.0</td>\n",
       "      <td>...</td>\n",
       "      <td>122.80</td>\n",
       "      <td>1001.0</td>\n",
       "      <td>0.11840</td>\n",
       "      <td>0.27760</td>\n",
       "      <td>0.3001</td>\n",
       "      <td>0.14710</td>\n",
       "      <td>0.2419</td>\n",
       "      <td>0.07871</td>\n",
       "      <td>1.0950</td>\n",
       "      <td>0.9053</td>\n",
       "    </tr>\n",
       "    <tr>\n",
       "      <th>1</th>\n",
       "      <td>0.02731</td>\n",
       "      <td>0.0</td>\n",
       "      <td>7.07</td>\n",
       "      <td>0.0</td>\n",
       "      <td>0.469</td>\n",
       "      <td>6.421</td>\n",
       "      <td>78.9</td>\n",
       "      <td>4.9671</td>\n",
       "      <td>2.0</td>\n",
       "      <td>242.0</td>\n",
       "      <td>...</td>\n",
       "      <td>132.90</td>\n",
       "      <td>1326.0</td>\n",
       "      <td>0.08474</td>\n",
       "      <td>0.07864</td>\n",
       "      <td>0.0869</td>\n",
       "      <td>0.07017</td>\n",
       "      <td>0.1812</td>\n",
       "      <td>0.05667</td>\n",
       "      <td>0.5435</td>\n",
       "      <td>0.7339</td>\n",
       "    </tr>\n",
       "    <tr>\n",
       "      <th>2</th>\n",
       "      <td>0.02729</td>\n",
       "      <td>0.0</td>\n",
       "      <td>7.07</td>\n",
       "      <td>0.0</td>\n",
       "      <td>0.469</td>\n",
       "      <td>7.185</td>\n",
       "      <td>61.1</td>\n",
       "      <td>4.9671</td>\n",
       "      <td>2.0</td>\n",
       "      <td>242.0</td>\n",
       "      <td>...</td>\n",
       "      <td>130.00</td>\n",
       "      <td>1203.0</td>\n",
       "      <td>0.10960</td>\n",
       "      <td>0.15990</td>\n",
       "      <td>0.1974</td>\n",
       "      <td>0.12790</td>\n",
       "      <td>0.2069</td>\n",
       "      <td>0.05999</td>\n",
       "      <td>0.7456</td>\n",
       "      <td>0.7869</td>\n",
       "    </tr>\n",
       "    <tr>\n",
       "      <th>3</th>\n",
       "      <td>0.03237</td>\n",
       "      <td>0.0</td>\n",
       "      <td>2.18</td>\n",
       "      <td>0.0</td>\n",
       "      <td>0.458</td>\n",
       "      <td>6.998</td>\n",
       "      <td>45.8</td>\n",
       "      <td>6.0622</td>\n",
       "      <td>3.0</td>\n",
       "      <td>222.0</td>\n",
       "      <td>...</td>\n",
       "      <td>77.58</td>\n",
       "      <td>386.1</td>\n",
       "      <td>0.14250</td>\n",
       "      <td>0.28390</td>\n",
       "      <td>0.2414</td>\n",
       "      <td>0.10520</td>\n",
       "      <td>0.2597</td>\n",
       "      <td>0.09744</td>\n",
       "      <td>0.4956</td>\n",
       "      <td>1.1560</td>\n",
       "    </tr>\n",
       "    <tr>\n",
       "      <th>4</th>\n",
       "      <td>0.06905</td>\n",
       "      <td>0.0</td>\n",
       "      <td>2.18</td>\n",
       "      <td>0.0</td>\n",
       "      <td>0.458</td>\n",
       "      <td>7.147</td>\n",
       "      <td>54.2</td>\n",
       "      <td>6.0622</td>\n",
       "      <td>3.0</td>\n",
       "      <td>222.0</td>\n",
       "      <td>...</td>\n",
       "      <td>135.10</td>\n",
       "      <td>1297.0</td>\n",
       "      <td>0.10030</td>\n",
       "      <td>0.13280</td>\n",
       "      <td>0.1980</td>\n",
       "      <td>0.10430</td>\n",
       "      <td>0.1809</td>\n",
       "      <td>0.05883</td>\n",
       "      <td>0.7572</td>\n",
       "      <td>0.7813</td>\n",
       "    </tr>\n",
       "  </tbody>\n",
       "</table>\n",
       "<p>5 rows × 34 columns</p>\n",
       "</div>"
      ],
      "text/plain": [
       "      CRIM    ZN  INDUS  CHAS    NOX     RM   AGE     DIS  RAD    TAX   ...    \\\n",
       "0  0.00632  18.0   2.31   0.0  0.538  6.575  65.2  4.0900  1.0  296.0   ...     \n",
       "1  0.02731   0.0   7.07   0.0  0.469  6.421  78.9  4.9671  2.0  242.0   ...     \n",
       "2  0.02729   0.0   7.07   0.0  0.469  7.185  61.1  4.9671  2.0  242.0   ...     \n",
       "3  0.03237   0.0   2.18   0.0  0.458  6.998  45.8  6.0622  3.0  222.0   ...     \n",
       "4  0.06905   0.0   2.18   0.0  0.458  7.147  54.2  6.0622  3.0  222.0   ...     \n",
       "\n",
       "       B1      B2       B3       B4      B5       B6      B7       B8      B9  \\\n",
       "0  122.80  1001.0  0.11840  0.27760  0.3001  0.14710  0.2419  0.07871  1.0950   \n",
       "1  132.90  1326.0  0.08474  0.07864  0.0869  0.07017  0.1812  0.05667  0.5435   \n",
       "2  130.00  1203.0  0.10960  0.15990  0.1974  0.12790  0.2069  0.05999  0.7456   \n",
       "3   77.58   386.1  0.14250  0.28390  0.2414  0.10520  0.2597  0.09744  0.4956   \n",
       "4  135.10  1297.0  0.10030  0.13280  0.1980  0.10430  0.1809  0.05883  0.7572   \n",
       "\n",
       "      B10  \n",
       "0  0.9053  \n",
       "1  0.7339  \n",
       "2  0.7869  \n",
       "3  1.1560  \n",
       "4  0.7813  \n",
       "\n",
       "[5 rows x 34 columns]"
      ]
     },
     "execution_count": 10,
     "metadata": {},
     "output_type": "execute_result"
    }
   ],
   "source": [
    "boston_df.head()"
   ]
  },
  {
   "cell_type": "markdown",
   "metadata": {},
   "source": [
    "#### 4. Create a summary table where you show means, ranges, and number of missings for each variable. In addition, add correlation between the price and each variable. You may add more statistics you consider useful to this table. ####"
   ]
  },
  {
   "cell_type": "code",
   "execution_count": 11,
   "metadata": {
    "scrolled": false
   },
   "outputs": [
    {
     "data": {
      "text/html": [
       "<div>\n",
       "<style scoped>\n",
       "    .dataframe tbody tr th:only-of-type {\n",
       "        vertical-align: middle;\n",
       "    }\n",
       "\n",
       "    .dataframe tbody tr th {\n",
       "        vertical-align: top;\n",
       "    }\n",
       "\n",
       "    .dataframe thead th {\n",
       "        text-align: right;\n",
       "    }\n",
       "</style>\n",
       "<table border=\"1\" class=\"dataframe\">\n",
       "  <thead>\n",
       "    <tr style=\"text-align: right;\">\n",
       "      <th></th>\n",
       "      <th>Correlation with MEDV</th>\n",
       "      <th>Mean</th>\n",
       "      <th>Missing Count</th>\n",
       "      <th>Range</th>\n",
       "      <th>Standard Deviation</th>\n",
       "    </tr>\n",
       "    <tr>\n",
       "      <th>Variable</th>\n",
       "      <th></th>\n",
       "      <th></th>\n",
       "      <th></th>\n",
       "      <th></th>\n",
       "      <th></th>\n",
       "    </tr>\n",
       "  </thead>\n",
       "  <tbody>\n",
       "    <tr>\n",
       "      <th>CRIM</th>\n",
       "      <td>-0.385832</td>\n",
       "      <td>3.593761</td>\n",
       "      <td>0</td>\n",
       "      <td>88.969880</td>\n",
       "      <td>8.596783</td>\n",
       "    </tr>\n",
       "    <tr>\n",
       "      <th>ZN</th>\n",
       "      <td>0.360445</td>\n",
       "      <td>11.363636</td>\n",
       "      <td>0</td>\n",
       "      <td>100.000000</td>\n",
       "      <td>23.322453</td>\n",
       "    </tr>\n",
       "    <tr>\n",
       "      <th>INDUS</th>\n",
       "      <td>-0.483725</td>\n",
       "      <td>11.136779</td>\n",
       "      <td>0</td>\n",
       "      <td>27.280000</td>\n",
       "      <td>6.860353</td>\n",
       "    </tr>\n",
       "    <tr>\n",
       "      <th>CHAS</th>\n",
       "      <td>0.175260</td>\n",
       "      <td>0.069170</td>\n",
       "      <td>0</td>\n",
       "      <td>1.000000</td>\n",
       "      <td>0.253994</td>\n",
       "    </tr>\n",
       "    <tr>\n",
       "      <th>NOX</th>\n",
       "      <td>-0.427321</td>\n",
       "      <td>0.554695</td>\n",
       "      <td>0</td>\n",
       "      <td>0.486000</td>\n",
       "      <td>0.115878</td>\n",
       "    </tr>\n",
       "    <tr>\n",
       "      <th>RM</th>\n",
       "      <td>0.695360</td>\n",
       "      <td>6.284634</td>\n",
       "      <td>0</td>\n",
       "      <td>5.219000</td>\n",
       "      <td>0.702617</td>\n",
       "    </tr>\n",
       "    <tr>\n",
       "      <th>AGE</th>\n",
       "      <td>-0.376955</td>\n",
       "      <td>68.574901</td>\n",
       "      <td>0</td>\n",
       "      <td>97.100000</td>\n",
       "      <td>28.148861</td>\n",
       "    </tr>\n",
       "    <tr>\n",
       "      <th>DIS</th>\n",
       "      <td>0.249929</td>\n",
       "      <td>3.795043</td>\n",
       "      <td>0</td>\n",
       "      <td>10.996900</td>\n",
       "      <td>2.105710</td>\n",
       "    </tr>\n",
       "    <tr>\n",
       "      <th>RAD</th>\n",
       "      <td>-0.381626</td>\n",
       "      <td>9.549407</td>\n",
       "      <td>0</td>\n",
       "      <td>23.000000</td>\n",
       "      <td>8.707259</td>\n",
       "    </tr>\n",
       "    <tr>\n",
       "      <th>TAX</th>\n",
       "      <td>-0.468536</td>\n",
       "      <td>408.237154</td>\n",
       "      <td>0</td>\n",
       "      <td>524.000000</td>\n",
       "      <td>168.537116</td>\n",
       "    </tr>\n",
       "    <tr>\n",
       "      <th>PTRATIO</th>\n",
       "      <td>-0.507787</td>\n",
       "      <td>18.455534</td>\n",
       "      <td>0</td>\n",
       "      <td>9.400000</td>\n",
       "      <td>2.164946</td>\n",
       "    </tr>\n",
       "    <tr>\n",
       "      <th>B</th>\n",
       "      <td>0.333461</td>\n",
       "      <td>356.674032</td>\n",
       "      <td>0</td>\n",
       "      <td>396.580000</td>\n",
       "      <td>91.294864</td>\n",
       "    </tr>\n",
       "    <tr>\n",
       "      <th>LSTAT</th>\n",
       "      <td>-0.737663</td>\n",
       "      <td>12.653063</td>\n",
       "      <td>0</td>\n",
       "      <td>36.240000</td>\n",
       "      <td>7.141062</td>\n",
       "    </tr>\n",
       "    <tr>\n",
       "      <th>MEDV</th>\n",
       "      <td>1.000000</td>\n",
       "      <td>22.532806</td>\n",
       "      <td>0</td>\n",
       "      <td>45.000000</td>\n",
       "      <td>9.197104</td>\n",
       "    </tr>\n",
       "    <tr>\n",
       "      <th>E1</th>\n",
       "      <td>0.283157</td>\n",
       "      <td>5.749869</td>\n",
       "      <td>0</td>\n",
       "      <td>7.123119</td>\n",
       "      <td>0.773471</td>\n",
       "    </tr>\n",
       "    <tr>\n",
       "      <th>E2</th>\n",
       "      <td>-0.474701</td>\n",
       "      <td>5.931405</td>\n",
       "      <td>0</td>\n",
       "      <td>1.335564</td>\n",
       "      <td>0.396367</td>\n",
       "    </tr>\n",
       "    <tr>\n",
       "      <th>E3</th>\n",
       "      <td>-0.200863</td>\n",
       "      <td>0.873518</td>\n",
       "      <td>0</td>\n",
       "      <td>1.000000</td>\n",
       "      <td>0.332721</td>\n",
       "    </tr>\n",
       "    <tr>\n",
       "      <th>E4</th>\n",
       "      <td>-0.384490</td>\n",
       "      <td>2305.164448</td>\n",
       "      <td>0</td>\n",
       "      <td>59256.278480</td>\n",
       "      <td>5751.404856</td>\n",
       "    </tr>\n",
       "    <tr>\n",
       "      <th>E5</th>\n",
       "      <td>-0.311844</td>\n",
       "      <td>986.214804</td>\n",
       "      <td>0</td>\n",
       "      <td>35312.504110</td>\n",
       "      <td>2662.522176</td>\n",
       "    </tr>\n",
       "    <tr>\n",
       "      <th>E6</th>\n",
       "      <td>-0.428892</td>\n",
       "      <td>170.999269</td>\n",
       "      <td>0</td>\n",
       "      <td>769.296000</td>\n",
       "      <td>171.087497</td>\n",
       "    </tr>\n",
       "    <tr>\n",
       "      <th>E7</th>\n",
       "      <td>0.718169</td>\n",
       "      <td>39.989325</td>\n",
       "      <td>0</td>\n",
       "      <td>64.407679</td>\n",
       "      <td>9.079531</td>\n",
       "    </tr>\n",
       "    <tr>\n",
       "      <th>E8</th>\n",
       "      <td>-0.506618</td>\n",
       "      <td>0.207510</td>\n",
       "      <td>0</td>\n",
       "      <td>1.000000</td>\n",
       "      <td>0.405925</td>\n",
       "    </tr>\n",
       "    <tr>\n",
       "      <th>E9</th>\n",
       "      <td>-0.705958</td>\n",
       "      <td>34.042805</td>\n",
       "      <td>0</td>\n",
       "      <td>137.140908</td>\n",
       "      <td>26.221857</td>\n",
       "    </tr>\n",
       "    <tr>\n",
       "      <th>E10</th>\n",
       "      <td>-0.579499</td>\n",
       "      <td>10.284497</td>\n",
       "      <td>0</td>\n",
       "      <td>10.463600</td>\n",
       "      <td>2.618985</td>\n",
       "    </tr>\n",
       "    <tr>\n",
       "      <th>B1</th>\n",
       "      <td>0.142522</td>\n",
       "      <td>92.595514</td>\n",
       "      <td>0</td>\n",
       "      <td>144.710000</td>\n",
       "      <td>24.067316</td>\n",
       "    </tr>\n",
       "    <tr>\n",
       "      <th>B2</th>\n",
       "      <td>0.146291</td>\n",
       "      <td>662.820553</td>\n",
       "      <td>0</td>\n",
       "      <td>2357.500000</td>\n",
       "      <td>351.251618</td>\n",
       "    </tr>\n",
       "    <tr>\n",
       "      <th>B3</th>\n",
       "      <td>0.017026</td>\n",
       "      <td>0.096250</td>\n",
       "      <td>0</td>\n",
       "      <td>0.100890</td>\n",
       "      <td>0.014029</td>\n",
       "    </tr>\n",
       "    <tr>\n",
       "      <th>B4</th>\n",
       "      <td>0.051950</td>\n",
       "      <td>0.104661</td>\n",
       "      <td>0</td>\n",
       "      <td>0.326020</td>\n",
       "      <td>0.053403</td>\n",
       "    </tr>\n",
       "    <tr>\n",
       "      <th>B5</th>\n",
       "      <td>0.073915</td>\n",
       "      <td>0.090171</td>\n",
       "      <td>0</td>\n",
       "      <td>0.426800</td>\n",
       "      <td>0.079906</td>\n",
       "    </tr>\n",
       "    <tr>\n",
       "      <th>B6</th>\n",
       "      <td>0.124762</td>\n",
       "      <td>0.049620</td>\n",
       "      <td>0</td>\n",
       "      <td>0.201200</td>\n",
       "      <td>0.038740</td>\n",
       "    </tr>\n",
       "    <tr>\n",
       "      <th>B7</th>\n",
       "      <td>0.028050</td>\n",
       "      <td>0.181557</td>\n",
       "      <td>0</td>\n",
       "      <td>0.187300</td>\n",
       "      <td>0.027809</td>\n",
       "    </tr>\n",
       "    <tr>\n",
       "      <th>B8</th>\n",
       "      <td>-0.066820</td>\n",
       "      <td>0.062651</td>\n",
       "      <td>0</td>\n",
       "      <td>0.047480</td>\n",
       "      <td>0.007160</td>\n",
       "    </tr>\n",
       "    <tr>\n",
       "      <th>B9</th>\n",
       "      <td>0.096129</td>\n",
       "      <td>0.410960</td>\n",
       "      <td>0</td>\n",
       "      <td>2.761500</td>\n",
       "      <td>0.283270</td>\n",
       "    </tr>\n",
       "    <tr>\n",
       "      <th>B10</th>\n",
       "      <td>0.018269</td>\n",
       "      <td>1.199077</td>\n",
       "      <td>0</td>\n",
       "      <td>4.524800</td>\n",
       "      <td>0.535995</td>\n",
       "    </tr>\n",
       "  </tbody>\n",
       "</table>\n",
       "</div>"
      ],
      "text/plain": [
       "          Correlation with MEDV         Mean  Missing Count         Range  \\\n",
       "Variable                                                                    \n",
       "CRIM                  -0.385832     3.593761              0     88.969880   \n",
       "ZN                     0.360445    11.363636              0    100.000000   \n",
       "INDUS                 -0.483725    11.136779              0     27.280000   \n",
       "CHAS                   0.175260     0.069170              0      1.000000   \n",
       "NOX                   -0.427321     0.554695              0      0.486000   \n",
       "RM                     0.695360     6.284634              0      5.219000   \n",
       "AGE                   -0.376955    68.574901              0     97.100000   \n",
       "DIS                    0.249929     3.795043              0     10.996900   \n",
       "RAD                   -0.381626     9.549407              0     23.000000   \n",
       "TAX                   -0.468536   408.237154              0    524.000000   \n",
       "PTRATIO               -0.507787    18.455534              0      9.400000   \n",
       "B                      0.333461   356.674032              0    396.580000   \n",
       "LSTAT                 -0.737663    12.653063              0     36.240000   \n",
       "MEDV                   1.000000    22.532806              0     45.000000   \n",
       "E1                     0.283157     5.749869              0      7.123119   \n",
       "E2                    -0.474701     5.931405              0      1.335564   \n",
       "E3                    -0.200863     0.873518              0      1.000000   \n",
       "E4                    -0.384490  2305.164448              0  59256.278480   \n",
       "E5                    -0.311844   986.214804              0  35312.504110   \n",
       "E6                    -0.428892   170.999269              0    769.296000   \n",
       "E7                     0.718169    39.989325              0     64.407679   \n",
       "E8                    -0.506618     0.207510              0      1.000000   \n",
       "E9                    -0.705958    34.042805              0    137.140908   \n",
       "E10                   -0.579499    10.284497              0     10.463600   \n",
       "B1                     0.142522    92.595514              0    144.710000   \n",
       "B2                     0.146291   662.820553              0   2357.500000   \n",
       "B3                     0.017026     0.096250              0      0.100890   \n",
       "B4                     0.051950     0.104661              0      0.326020   \n",
       "B5                     0.073915     0.090171              0      0.426800   \n",
       "B6                     0.124762     0.049620              0      0.201200   \n",
       "B7                     0.028050     0.181557              0      0.187300   \n",
       "B8                    -0.066820     0.062651              0      0.047480   \n",
       "B9                     0.096129     0.410960              0      2.761500   \n",
       "B10                    0.018269     1.199077              0      4.524800   \n",
       "\n",
       "          Standard Deviation  \n",
       "Variable                      \n",
       "CRIM                8.596783  \n",
       "ZN                 23.322453  \n",
       "INDUS               6.860353  \n",
       "CHAS                0.253994  \n",
       "NOX                 0.115878  \n",
       "RM                  0.702617  \n",
       "AGE                28.148861  \n",
       "DIS                 2.105710  \n",
       "RAD                 8.707259  \n",
       "TAX               168.537116  \n",
       "PTRATIO             2.164946  \n",
       "B                  91.294864  \n",
       "LSTAT               7.141062  \n",
       "MEDV                9.197104  \n",
       "E1                  0.773471  \n",
       "E2                  0.396367  \n",
       "E3                  0.332721  \n",
       "E4               5751.404856  \n",
       "E5               2662.522176  \n",
       "E6                171.087497  \n",
       "E7                  9.079531  \n",
       "E8                  0.405925  \n",
       "E9                 26.221857  \n",
       "E10                 2.618985  \n",
       "B1                 24.067316  \n",
       "B2                351.251618  \n",
       "B3                  0.014029  \n",
       "B4                  0.053403  \n",
       "B5                  0.079906  \n",
       "B6                  0.038740  \n",
       "B7                  0.027809  \n",
       "B8                  0.007160  \n",
       "B9                  0.283270  \n",
       "B10                 0.535995  "
      ]
     },
     "execution_count": 11,
     "metadata": {},
     "output_type": "execute_result"
    }
   ],
   "source": [
    "# Create a new data frame to hold summary information\n",
    "results = pd.DataFrame({'Mean': boston_df.mean(), 'Standard Deviation': boston_df.std(), \n",
    "                        'Range': boston_df.max() - boston_df.min(), 'Missing Count': boston_df.isnull().sum(),\n",
    "                        'Correlation with MEDV': boston_df.corr().loc['MEDV']\n",
    "                       })\n",
    "results.index.name = \"Variable\"\n",
    "results.reset_index()\n",
    "results"
   ]
  },
  {
   "cell_type": "markdown",
   "metadata": {},
   "source": [
    "#### 5. Graphical exploration. Make a number of scatterplots where you explore the relationship between features and the value. Include a few features you consider relevant and a few you consider irrelevant here. ####"
   ]
  },
  {
   "cell_type": "markdown",
   "metadata": {},
   "source": [
    "**1. Chosen relevant features: LSTAT, RM**  \n",
    "**2. Chosen irrelevant features: E5, B3**"
   ]
  },
  {
   "cell_type": "code",
   "execution_count": 12,
   "metadata": {
    "scrolled": false
   },
   "outputs": [
    {
     "data": {
      "image/png": "[encoded data removed]",
      "text/plain": [
       "<matplotlib.figure.Figure at 0x2590b5f3550>"
      ]
     },
     "metadata": {},
     "output_type": "display_data"
    }
   ],
   "source": [
    "plt.style.use('ggplot')\n",
    "\n",
    "# Plotting Relevant Features: LSTAT AND RM\n",
    "fig_boston = plt.figure(figsize=(15,10))\n",
    "props_axes = {\n",
    "    'title': 'Rooms per dwelling vs Median House Value',\n",
    "    'xlabel': 'RM (Rooms per Dwelling)',\n",
    "    'ylabel': 'MEDV (Median House Value)'\n",
    "}\n",
    "axes = fig_boston.add_subplot(221)\n",
    "axes.set(**props_axes)\n",
    "_ = axes.scatter(boston_df['RM'], boston_df['MEDV'], s = 5)\n",
    "\n",
    "props_axes = {\n",
    "    'title': 'Lower Status of Population vs Median House Value',\n",
    "    'xlabel': 'LSTAT (Lower Status of Population)',\n",
    "    'ylabel': 'MEDV (Median House Value)'\n",
    "}\n",
    "axes = fig_boston.add_subplot(222)\n",
    "axes.set(**props_axes)\n",
    "_ = axes.scatter(boston_df['LSTAT'], boston_df['MEDV'], s = 5, c='g')\n",
    "\n",
    "# Plotting Irrelevant Features: E5 AND B3\n",
    "props_axes = {\n",
    "    'title': 'Engineered Feature 5 vs Median House Value',\n",
    "    'xlabel': 'E5 (boston_df[\\'CRIM\\'] * boston_df[\\'B\\'])',\n",
    "    'ylabel': 'MEDV (Median House Value)'\n",
    "}\n",
    "axes = fig_boston.add_subplot(223)\n",
    "axes.set(**props_axes)\n",
    "_ = axes.scatter(boston_df['E5'], boston_df['MEDV'], s = 5, c='b')\n",
    "\n",
    "props_axes = {\n",
    "    'title': 'Bogus Feature 3 vs Median House Value',\n",
    "    'xlabel': 'B3 (Bogus Feature)',\n",
    "    'ylabel': 'MEDV (Median House Value)'\n",
    "}\n",
    "axes = fig_boston.add_subplot(224)\n",
    "axes.set(**props_axes)\n",
    "_ = axes.scatter(boston_df['B3'], boston_df['MEDV'], s = 5, c='y')"
   ]
  },
  {
   "cell_type": "markdown",
   "metadata": {},
   "source": [
    "### 2. Warm-up: a few simple models ###"
   ]
  },
  {
   "cell_type": "markdown",
   "metadata": {},
   "source": [
    "#### 2.1 Loss function ####"
   ]
  },
  {
   "cell_type": "markdown",
   "metadata": {},
   "source": [
    "#### 1. Write a function that computes the mean quadratic loss. The function should take three inputs: a) the estimated model (or just the estimated parameters); b) the test data X; and the test labels y. You may add other inputs if you consider it useful, for instance controls for print verbosity. ####"
   ]
  },
  {
   "cell_type": "code",
   "execution_count": 13,
   "metadata": {},
   "outputs": [],
   "source": [
    "# Function to compute mean quadratic loss.\n",
    "def compute_loss(model, X, Y):\n",
    "    coeff = model.coef_  # extract coefficients from the model\n",
    "    intercept = np.matrix([model.intercept_]) # extract the intercept from the model\n",
    "    X = np.concatenate((np.ones_like(Y), X), axis=1) # concatenate 1's with the feature matrix to represent the intercept\n",
    "    coeff = coeff.reshape(len(coeff[0]),1)\n",
    "    coeff = np.concatenate((intercept, coeff), axis = 0 ) # add the intercept to the vector of coefficients\n",
    "    # compute the MSE\n",
    "    par1 = Y - X.dot(coeff)\n",
    "    return (par1.T.dot(par1)) / len(Y)"
   ]
  },
  {
   "cell_type": "markdown",
   "metadata": {},
   "source": [
    "#### 2.2 A few simple regressions ####"
   ]
  },
  {
   "cell_type": "code",
   "execution_count": 14,
   "metadata": {},
   "outputs": [],
   "source": [
    "# Function to perform k-fold cross validation\n",
    "def perform_k_fold(indices, X, y, k):\n",
    "    mse = np.empty(k)  # Array to store MSE values for each fold\n",
    "    \n",
    "    for i in range(k):\n",
    "        itest = indices[i::k] # Test set indices\n",
    "        itrain = list(set(indices).difference(itest)) # Training set indices\n",
    "        testX = X[itest] # Features from test data\n",
    "        testY = y[itest] # Outcome from test data\n",
    "        trainX = X[itrain] # Features from training data\n",
    "        trainY = y[itrain] # Outcome from training data\n",
    "        lin_model = LinearRegression().fit(trainX,trainY) # Fitting a linear estimator\n",
    "        mse[i] = compute_loss(lin_model, testX, testY) # Compute the MSE for this fold\n",
    "    return np.mean(mse)  # Return the average MSE"
   ]
  },
  {
   "cell_type": "code",
   "execution_count": 15,
   "metadata": {},
   "outputs": [],
   "source": [
    "# Create and shuffle indices for use by k-fold cross validation\n",
    "np.random.seed(0)\n",
    "indices = np.arange(len(boston_df))\n",
    "np.random.shuffle(indices)"
   ]
  },
  {
   "cell_type": "markdown",
   "metadata": {},
   "source": [
    "#### 1. Create a small model. It should include 1-2 variables you consider relevant, i.e. features you think should be closely related to price. #### "
   ]
  },
  {
   "cell_type": "code",
   "execution_count": 16,
   "metadata": {},
   "outputs": [],
   "source": [
    "# Here we choose the features 'RM', and 'LSTAT' which have a good correlation with our outcome variable\n",
    "X = boston_df[['RM', 'LSTAT']].as_matrix()\n",
    "Y = boston_df[['MEDV']].as_matrix()"
   ]
  },
  {
   "cell_type": "markdown",
   "metadata": {},
   "source": [
    "#### 2. 10-fold cross-validate this model to get the average MSE score (the value of your loss function). ####"
   ]
  },
  {
   "cell_type": "code",
   "execution_count": 17,
   "metadata": {},
   "outputs": [
    {
     "name": "stdout",
     "output_type": "stream",
     "text": [
      "Mean Quadratic Loss: 31.224016700922483\n"
     ]
    }
   ],
   "source": [
    "print(\"Mean Quadratic Loss:\", perform_k_fold(indices, X, Y, 10))"
   ]
  },
  {
   "cell_type": "markdown",
   "metadata": {},
   "source": [
    "#### 3. Now build the next model with 10 features. Add more features you consider relevant but also those you consider irrelevant. Compute 10-fold MSE for this model. ####"
   ]
  },
  {
   "cell_type": "code",
   "execution_count": 18,
   "metadata": {},
   "outputs": [],
   "source": [
    "X = boston_df[['INDUS', 'NOX', 'RM', 'LSTAT', 'TAX', 'B1', 'B2', 'B3', 'B4', 'B5']].as_matrix()  # adding more features"
   ]
  },
  {
   "cell_type": "code",
   "execution_count": 19,
   "metadata": {},
   "outputs": [
    {
     "name": "stdout",
     "output_type": "stream",
     "text": [
      "Mean Quadratic Loss: 30.466211779667635\n"
     ]
    }
   ],
   "source": [
    "print(\"Mean Quadratic Loss:\", perform_k_fold(indices, X, Y, 10))"
   ]
  },
  {
   "cell_type": "markdown",
   "metadata": {},
   "source": [
    "#### 4. Finally, include all your features and compute MSE. We call this the full model below. ####"
   ]
  },
  {
   "cell_type": "code",
   "execution_count": 20,
   "metadata": {},
   "outputs": [],
   "source": [
    "X = boston_df[boston_df.columns.difference(['MEDV'])].as_matrix()  # select all features (full model)\n",
    "Y = boston_df[['MEDV']].as_matrix()"
   ]
  },
  {
   "cell_type": "code",
   "execution_count": 21,
   "metadata": {},
   "outputs": [],
   "source": [
    "# Empty lists to populate results of models for comparison in the end\n",
    "final_mse_vals = []\n",
    "models = []\n",
    "num_features = []"
   ]
  },
  {
   "cell_type": "code",
   "execution_count": 22,
   "metadata": {},
   "outputs": [
    {
     "name": "stdout",
     "output_type": "stream",
     "text": [
      "Mean Quadratic Loss: 17.093934279416292\n"
     ]
    }
   ],
   "source": [
    "full_model_mse = perform_k_fold(indices, X, Y, 10)\n",
    "print(\"Mean Quadratic Loss:\", full_model_mse)\n",
    "\n",
    "# Store results for comparison in the end\n",
    "final_mse_vals.append(round(full_model_mse,2))\n",
    "models.append(\"Full Model\")\n",
    "num_features.append(X.shape[1])"
   ]
  },
  {
   "cell_type": "markdown",
   "metadata": {},
   "source": [
    "#### 5. Compare the results. Which has the best performance? ####"
   ]
  },
  {
   "cell_type": "markdown",
   "metadata": {},
   "source": [
    "* The model with two relevant features only has the highest mean quadratic loss (31.22).  \n",
    "* On including more relevant, and some irrelevant features, the MSE falls slightly (30.47), indicating a better model.\n",
    "* The full model offers the best performance, with MSE value of 17.09."
   ]
  },
  {
   "cell_type": "markdown",
   "metadata": {},
   "source": [
    "### 3. Find the best model ###"
   ]
  },
  {
   "cell_type": "markdown",
   "metadata": {},
   "source": [
    "#### 3.1 Can we evaluate all models? ####"
   ]
  },
  {
   "cell_type": "markdown",
   "metadata": {},
   "source": [
    "#### 1. How many different linear regression models can you build based on the features you have (including the ones you generated)?####"
   ]
  },
  {
   "cell_type": "markdown",
   "metadata": {},
   "source": [
    "**For a model with 'p' number of features, we know by binomial theorem that the number of combinations that we can create are $2^p$. In our case p = 33, therefore total number of regression models possible are:**"
   ]
  },
  {
   "cell_type": "code",
   "execution_count": 23,
   "metadata": {},
   "outputs": [
    {
     "data": {
      "text/plain": [
       "8589934592"
      ]
     },
     "execution_count": 23,
     "metadata": {},
     "output_type": "execute_result"
    }
   ],
   "source": [
    "2 ** 33"
   ]
  },
  {
   "cell_type": "markdown",
   "metadata": {},
   "source": [
    "#### 2. Run a test: run the following loop a number of times so that the total execution time is reasonably long (at least 5 seconds) but not too long. ####\n",
    "#### (a) choose a random number of different features. ####\n",
    "#### (b) estimate the model based on these features. ####\n",
    "#### (c) run 10-fold CV to get the MSE score for this model. ####"
   ]
  },
  {
   "cell_type": "code",
   "execution_count": 24,
   "metadata": {},
   "outputs": [
    {
     "name": "stdout",
     "output_type": "stream",
     "text": [
      "Memory requirement for  350  models: 2896 bytes\n",
      "Runtime for  350 models: 4.06 seconds\n"
     ]
    }
   ],
   "source": [
    "niter = 350 # number of models to build\n",
    "reduced_df = boston_df[boston_df.columns.difference(['MEDV'])]  # extract the features\n",
    "mse = np.empty(niter) # array to store MSE values\n",
    "start_time = time.time() # start recording the time\n",
    "for i in range(niter):    \n",
    "    num_feature = np.random.randint(1, 33) # select a random number of features\n",
    "    df = reduced_df.sample(num_feature, axis=1) # extract num_features number of features from our dataframe randomly\n",
    "    mse[i] = perform_k_fold(indices, df.as_matrix(), Y, 10) # perform CV and store MSE\n",
    "run_time = round((time.time() - start_time),2) # Compute the time required\n",
    "memory = sys.getsizeof(mse) # Get total memory required for MSE values\n",
    "print(\"Memory requirement for \", niter, \" models:\", memory, \"bytes\")\n",
    "print(\"Runtime for \", niter, \"models:\", run_time, \"seconds\")    "
   ]
  },
  {
   "cell_type": "markdown",
   "metadata": {},
   "source": [
    "#### 3. Based on the test timings, calculate how long time it would take to evaluate all the possible models. Would it be possible to store all the resulting MSE-s in your computer's memory?####"
   ]
  },
  {
   "cell_type": "markdown",
   "metadata": {},
   "source": [
    "Here we find a rough estimate of the time and space requirements for $2^p$ models, based on the values we obtain for 350 models."
   ]
  },
  {
   "cell_type": "code",
   "execution_count": 25,
   "metadata": {
    "scrolled": true
   },
   "outputs": [
    {
     "name": "stdout",
     "output_type": "stream",
     "text": [
      "Time required for all possible subsets: 1153 days\n",
      "Memory required for all possible subsets: 66 GB\n"
     ]
    }
   ],
   "source": [
    "hypothetical_time = round((run_time / 350 * (2 ** 33))/ (60*60*24)) # Get approx time for 350 models in number of days\n",
    "hypothetical_memory = round((memory / 350 * (2 ** 33))/ (1024**3)) # Get approx memory for 350 models in Gigabytes\n",
    "print(\"Time required for all possible subsets:\", hypothetical_time, \"days\")\n",
    "print(\"Memory required for all possible subsets:\", hypothetical_memory, \"GB\")"
   ]
  },
  {
   "cell_type": "markdown",
   "metadata": {},
   "source": [
    "**Based on the above approximations, we see that evaluating all models would take several years and would be impossible to store in a regular computer's memory.**"
   ]
  },
  {
   "cell_type": "markdown",
   "metadata": {},
   "source": [
    "#### 3.2 Forward selection ####"
   ]
  },
  {
   "cell_type": "markdown",
   "metadata": {},
   "source": [
    "#### Next, let's implement the forward selection procedure to determine wich is the best model. Use 10-fold CV again to evaluate your models. ####\n",
    "1. James et al. (2015, section 6.1), in particular page 207.\n",
    "2. Create a series of 1-feature models and pick the best one by 10-fold CV.\n",
    "3. Pick the feature with the lowest loss. This is your 1-feature model.\n",
    "4. Repeat the procedure with more features until all features are included.\n",
    "5. Pick the best model using Cp, AIC, BIC or adjusted R-square (consult James et al. (2015, section 6.1.3)).\n",
    "\n",
    "*Note: For step 5, we are calculating the test MSE instead of Cp, AIC, BIC or adjusted R-square. This is because these indicators help us approximate performance from training data based on penalties for test data, whereas here we are already performing CV which we can use to find test MSE directly.*"
   ]
  },
  {
   "cell_type": "code",
   "execution_count": 26,
   "metadata": {
    "scrolled": true
   },
   "outputs": [
    {
     "name": "stdout",
     "output_type": "stream",
     "text": [
      "Results for  1  number of features:\n",
      "New Least MSE 38.92149569497492\n",
      "Min MSE Feature LSTAT\n",
      "Current Selected Features ['LSTAT']\n",
      "Results for  2  number of features:\n",
      "New Least MSE 29.095766849881397\n",
      "Min MSE Feature E7\n",
      "Current Selected Features ['LSTAT', 'E7']\n",
      "Results for  3  number of features:\n",
      "New Least MSE 23.411227640466418\n",
      "Min MSE Feature RM\n",
      "Current Selected Features ['LSTAT', 'E7', 'RM']\n",
      "Results for  4  number of features:\n",
      "New Least MSE 21.493244961524503\n",
      "Min MSE Feature PTRATIO\n",
      "Current Selected Features ['LSTAT', 'E7', 'RM', 'PTRATIO']\n",
      "Results for  5  number of features:\n",
      "New Least MSE 20.088478766013203\n",
      "Min MSE Feature E9\n",
      "Current Selected Features ['LSTAT', 'E7', 'RM', 'PTRATIO', 'E9']\n",
      "Results for  6  number of features:\n",
      "New Least MSE 19.317183376339585\n",
      "Min MSE Feature CRIM\n",
      "Current Selected Features ['LSTAT', 'E7', 'RM', 'PTRATIO', 'E9', 'CRIM']\n",
      "Results for  7  number of features:\n",
      "New Least MSE 18.30623156289751\n",
      "Min MSE Feature DIS\n",
      "Current Selected Features ['LSTAT', 'E7', 'RM', 'PTRATIO', 'E9', 'CRIM', 'DIS']\n",
      "Results for  8  number of features:\n",
      "New Least MSE 17.472245023364515\n",
      "Min MSE Feature NOX\n",
      "Current Selected Features ['LSTAT', 'E7', 'RM', 'PTRATIO', 'E9', 'CRIM', 'DIS', 'NOX']\n",
      "Results for  9  number of features:\n",
      "New Least MSE 17.26452872250943\n",
      "Min MSE Feature B1\n",
      "Current Selected Features ['LSTAT', 'E7', 'RM', 'PTRATIO', 'E9', 'CRIM', 'DIS', 'NOX', 'B1']\n",
      "Results for  10  number of features:\n",
      "New Least MSE 17.097856694010638\n",
      "Min MSE Feature B\n",
      "Current Selected Features ['LSTAT', 'E7', 'RM', 'PTRATIO', 'E9', 'CRIM', 'DIS', 'NOX', 'B1', 'B']\n",
      "Results for  11  number of features:\n",
      "New Least MSE 16.871094942822783\n",
      "Min MSE Feature RAD\n",
      "Current Selected Features ['LSTAT', 'E7', 'RM', 'PTRATIO', 'E9', 'CRIM', 'DIS', 'NOX', 'B1', 'B', 'RAD']\n",
      "Results for  12  number of features:\n",
      "New Least MSE 16.490898329555286\n",
      "Min MSE Feature E2\n",
      "Current Selected Features ['LSTAT', 'E7', 'RM', 'PTRATIO', 'E9', 'CRIM', 'DIS', 'NOX', 'B1', 'B', 'RAD', 'E2']\n",
      "Results for  13  number of features:\n",
      "New Least MSE 16.428876844189748\n",
      "Min MSE Feature E10\n",
      "Current Selected Features ['LSTAT', 'E7', 'RM', 'PTRATIO', 'E9', 'CRIM', 'DIS', 'NOX', 'B1', 'B', 'RAD', 'E2', 'E10']\n",
      "Results for  14  number of features:\n",
      "New Least MSE 16.334787872560145\n",
      "Min MSE Feature E6\n",
      "Current Selected Features ['LSTAT', 'E7', 'RM', 'PTRATIO', 'E9', 'CRIM', 'DIS', 'NOX', 'B1', 'B', 'RAD', 'E2', 'E10', 'E6']\n",
      "Results for  15  number of features:\n",
      "New Least MSE 16.321230202317203\n",
      "Min MSE Feature INDUS\n",
      "Current Selected Features ['LSTAT', 'E7', 'RM', 'PTRATIO', 'E9', 'CRIM', 'DIS', 'NOX', 'B1', 'B', 'RAD', 'E2', 'E10', 'E6', 'INDUS']\n",
      "Results for  16  number of features:\n",
      "New Least MSE 16.25937035405005\n",
      "Min MSE Feature CHAS\n",
      "Current Selected Features ['LSTAT', 'E7', 'RM', 'PTRATIO', 'E9', 'CRIM', 'DIS', 'NOX', 'B1', 'B', 'RAD', 'E2', 'E10', 'E6', 'INDUS', 'CHAS']\n",
      "Results for  17  number of features:\n",
      "New Least MSE 16.24949366080035\n",
      "Min MSE Feature E4\n",
      "Current Selected Features ['LSTAT', 'E7', 'RM', 'PTRATIO', 'E9', 'CRIM', 'DIS', 'NOX', 'B1', 'B', 'RAD', 'E2', 'E10', 'E6', 'INDUS', 'CHAS', 'E4']\n",
      "Results for  18  number of features:\n",
      "New Least MSE 16.260298118697197\n",
      "Min MSE Feature E5\n",
      "Current Selected Features ['LSTAT', 'E7', 'RM', 'PTRATIO', 'E9', 'CRIM', 'DIS', 'NOX', 'B1', 'B', 'RAD', 'E2', 'E10', 'E6', 'INDUS', 'CHAS', 'E4', 'E5']\n",
      "Results for  19  number of features:\n",
      "New Least MSE 16.271934657953988\n",
      "Min MSE Feature E8\n",
      "Current Selected Features ['LSTAT', 'E7', 'RM', 'PTRATIO', 'E9', 'CRIM', 'DIS', 'NOX', 'B1', 'B', 'RAD', 'E2', 'E10', 'E6', 'INDUS', 'CHAS', 'E4', 'E5', 'E8']\n",
      "Results for  20  number of features:\n",
      "New Least MSE 16.298127041402807\n",
      "Min MSE Feature E1\n",
      "Current Selected Features ['LSTAT', 'E7', 'RM', 'PTRATIO', 'E9', 'CRIM', 'DIS', 'NOX', 'B1', 'B', 'RAD', 'E2', 'E10', 'E6', 'INDUS', 'CHAS', 'E4', 'E5', 'E8', 'E1']\n",
      "Results for  21  number of features:\n",
      "New Least MSE 16.32894681785658\n",
      "Min MSE Feature B7\n",
      "Current Selected Features ['LSTAT', 'E7', 'RM', 'PTRATIO', 'E9', 'CRIM', 'DIS', 'NOX', 'B1', 'B', 'RAD', 'E2', 'E10', 'E6', 'INDUS', 'CHAS', 'E4', 'E5', 'E8', 'E1', 'B7']\n",
      "Results for  22  number of features:\n",
      "New Least MSE 16.351150681620673\n",
      "Min MSE Feature B8\n",
      "Current Selected Features ['LSTAT', 'E7', 'RM', 'PTRATIO', 'E9', 'CRIM', 'DIS', 'NOX', 'B1', 'B', 'RAD', 'E2', 'E10', 'E6', 'INDUS', 'CHAS', 'E4', 'E5', 'E8', 'E1', 'B7', 'B8']\n",
      "Results for  23  number of features:\n",
      "New Least MSE 16.381451174059332\n",
      "Min MSE Feature B10\n",
      "Current Selected Features ['LSTAT', 'E7', 'RM', 'PTRATIO', 'E9', 'CRIM', 'DIS', 'NOX', 'B1', 'B', 'RAD', 'E2', 'E10', 'E6', 'INDUS', 'CHAS', 'E4', 'E5', 'E8', 'E1', 'B7', 'B8', 'B10']\n",
      "Results for  24  number of features:\n",
      "New Least MSE 16.411658349263526\n",
      "Min MSE Feature B4\n",
      "Current Selected Features ['LSTAT', 'E7', 'RM', 'PTRATIO', 'E9', 'CRIM', 'DIS', 'NOX', 'B1', 'B', 'RAD', 'E2', 'E10', 'E6', 'INDUS', 'CHAS', 'E4', 'E5', 'E8', 'E1', 'B7', 'B8', 'B10', 'B4']\n",
      "Results for  25  number of features:\n",
      "New Least MSE 16.451983313461337\n",
      "Min MSE Feature B6\n",
      "Current Selected Features ['LSTAT', 'E7', 'RM', 'PTRATIO', 'E9', 'CRIM', 'DIS', 'NOX', 'B1', 'B', 'RAD', 'E2', 'E10', 'E6', 'INDUS', 'CHAS', 'E4', 'E5', 'E8', 'E1', 'B7', 'B8', 'B10', 'B4', 'B6']\n",
      "Results for  26  number of features:\n",
      "New Least MSE 16.502319106131207\n",
      "Min MSE Feature B3\n",
      "Current Selected Features ['LSTAT', 'E7', 'RM', 'PTRATIO', 'E9', 'CRIM', 'DIS', 'NOX', 'B1', 'B', 'RAD', 'E2', 'E10', 'E6', 'INDUS', 'CHAS', 'E4', 'E5', 'E8', 'E1', 'B7', 'B8', 'B10', 'B4', 'B6', 'B3']\n",
      "Results for  27  number of features:\n",
      "New Least MSE 16.552960301575187\n",
      "Min MSE Feature E3\n",
      "Current Selected Features ['LSTAT', 'E7', 'RM', 'PTRATIO', 'E9', 'CRIM', 'DIS', 'NOX', 'B1', 'B', 'RAD', 'E2', 'E10', 'E6', 'INDUS', 'CHAS', 'E4', 'E5', 'E8', 'E1', 'B7', 'B8', 'B10', 'B4', 'B6', 'B3', 'E3']\n",
      "Results for  28  number of features:\n",
      "New Least MSE 16.608921492523464\n",
      "Min MSE Feature AGE\n",
      "Current Selected Features ['LSTAT', 'E7', 'RM', 'PTRATIO', 'E9', 'CRIM', 'DIS', 'NOX', 'B1', 'B', 'RAD', 'E2', 'E10', 'E6', 'INDUS', 'CHAS', 'E4', 'E5', 'E8', 'E1', 'B7', 'B8', 'B10', 'B4', 'B6', 'B3', 'E3', 'AGE']\n",
      "Results for  29  number of features:\n",
      "New Least MSE 16.670679734987566\n",
      "Min MSE Feature ZN\n",
      "Current Selected Features ['LSTAT', 'E7', 'RM', 'PTRATIO', 'E9', 'CRIM', 'DIS', 'NOX', 'B1', 'B', 'RAD', 'E2', 'E10', 'E6', 'INDUS', 'CHAS', 'E4', 'E5', 'E8', 'E1', 'B7', 'B8', 'B10', 'B4', 'B6', 'B3', 'E3', 'AGE', 'ZN']\n",
      "Results for  30  number of features:\n",
      "New Least MSE 16.72451266402199\n",
      "Min MSE Feature TAX\n",
      "Current Selected Features ['LSTAT', 'E7', 'RM', 'PTRATIO', 'E9', 'CRIM', 'DIS', 'NOX', 'B1', 'B', 'RAD', 'E2', 'E10', 'E6', 'INDUS', 'CHAS', 'E4', 'E5', 'E8', 'E1', 'B7', 'B8', 'B10', 'B4', 'B6', 'B3', 'E3', 'AGE', 'ZN', 'TAX']\n",
      "Results for  31  number of features:\n",
      "New Least MSE 16.822590977181456\n",
      "Min MSE Feature B5\n",
      "Current Selected Features ['LSTAT', 'E7', 'RM', 'PTRATIO', 'E9', 'CRIM', 'DIS', 'NOX', 'B1', 'B', 'RAD', 'E2', 'E10', 'E6', 'INDUS', 'CHAS', 'E4', 'E5', 'E8', 'E1', 'B7', 'B8', 'B10', 'B4', 'B6', 'B3', 'E3', 'AGE', 'ZN', 'TAX', 'B5']\n",
      "Results for  32  number of features:\n",
      "New Least MSE 16.968447933718476\n",
      "Min MSE Feature B2\n",
      "Current Selected Features ['LSTAT', 'E7', 'RM', 'PTRATIO', 'E9', 'CRIM', 'DIS', 'NOX', 'B1', 'B', 'RAD', 'E2', 'E10', 'E6', 'INDUS', 'CHAS', 'E4', 'E5', 'E8', 'E1', 'B7', 'B8', 'B10', 'B4', 'B6', 'B3', 'E3', 'AGE', 'ZN', 'TAX', 'B5', 'B2']\n",
      "Results for  33  number of features:\n",
      "New Least MSE 17.093934279414576\n",
      "Min MSE Feature B9\n",
      "Current Selected Features ['LSTAT', 'E7', 'RM', 'PTRATIO', 'E9', 'CRIM', 'DIS', 'NOX', 'B1', 'B', 'RAD', 'E2', 'E10', 'E6', 'INDUS', 'CHAS', 'E4', 'E5', 'E8', 'E1', 'B7', 'B8', 'B10', 'B4', 'B6', 'B3', 'E3', 'AGE', 'ZN', 'TAX', 'B5', 'B2', 'B9']\n"
     ]
    }
   ],
   "source": [
    "# Function to perform forward selection\n",
    "def perform_forward_selection(X, Y, indices):\n",
    "    num_cols = X.shape[1]  # number of features\n",
    "    # dictionary to store details about best performing model for each possible feature set size\n",
    "    best_params = {str(j+1):() for j in range(num_cols)} \n",
    "    min_param = ''  # string to store ideal number of features, which minimize the MSE\n",
    "    min_mse = 1e10  # an arbitrarily large initial value of MSE \n",
    "    cur_df = pd.DataFrame() # an empty dataframe\n",
    "    mse_values = np.empty(num_cols)\n",
    "    for k in range(num_cols):\n",
    "        # loop for each possible number of features in our feature set.\n",
    "        cur_min_mse = 1e10  # initial minimum MSE for those number of features\n",
    "        min_x = None # values of the new feature which give the minimum MSE for these number of features\n",
    "        min_x_name = ''  # name of the feature added, which gave the minimum MSE\n",
    "        for i in range(num_cols - k):\n",
    "            # loop over all feature candidates, which have not yet been used\n",
    "            x = X.iloc[:,i]  # extract the candidate\n",
    "            temp_df = cur_df.copy() \n",
    "            temp_df[x.name] = x  # create a temp feature set with the current feature added\n",
    "            mse_current = perform_k_fold(indices, temp_df.as_matrix(), Y, 10)  # perform CV\n",
    "            if mse_current < cur_min_mse:\n",
    "                # check if adding the current feature gives the best yet MSE for those number of features\n",
    "                cur_min_mse = mse_current\n",
    "                min_x_name = x.name\n",
    "                min_x = x\n",
    "        cur_df[min_x_name] = min_x  # add the best possible feature found in the above loop to our data frame\n",
    "        print(\"Results for \", k+1, \" number of features:\")\n",
    "        print(\"New Least MSE\", cur_min_mse)\n",
    "        print(\"Min MSE Feature\", min_x_name)\n",
    "        print(\"Current Selected Features\", list(cur_df.columns))\n",
    "        X = X.drop(min_x_name, axis=1) # drop the current best possible feature from the dataframe of candidate features\n",
    "        best_params[str(k+1)] = (cur_min_mse, list(cur_df.columns))  # store the details for the best model with k+1 features\n",
    "        mse_values[k] = cur_min_mse\n",
    "        if cur_min_mse < min_mse:\n",
    "            # Update overall minimum MSE, and the optimum number of features\n",
    "            min_param = str(k+1)\n",
    "            min_mse = cur_min_mse\n",
    "    return min_param, best_params, mse_values\n",
    "\n",
    "X = boston_df[boston_df.columns.difference(['MEDV'])]\n",
    "min_param, best_params, mse_values = perform_forward_selection(X, Y, indices)"
   ]
  },
  {
   "cell_type": "code",
   "execution_count": 27,
   "metadata": {},
   "outputs": [
    {
     "data": {
      "image/png": "[encoded data removed]",
      "text/plain": [
       "<matplotlib.figure.Figure at 0x2590b5f3320>"
      ]
     },
     "metadata": {},
     "output_type": "display_data"
    }
   ],
   "source": [
    "plt.figure(figsize=(10,6))\n",
    "plt.plot([i+1 for i in range(X.shape[1])], mse_values, marker='o', linestyle='dashed', linewidth=2, markersize=4)\n",
    "plt.xlabel(\"Number of Features\")\n",
    "plt.ylabel(\"Mean Squared Error\")\n",
    "plt.title(\"MSE for n-Feature Models (Forward Selection)\")\n",
    "plt.axvline(x=int(min_param), color = \"green\", linestyle = 'dashed')\n",
    "display_text = \"Min MSE=\" + str(round(best_params[min_param][0], 2)) + \",\\nNum Features=\" + str(min_param)\n",
    "_ = plt.text(int(min_param), 30, display_text)\n",
    "\n",
    "optimum_features = 10\n",
    "plt.axvline(x= optimum_features, color = \"blue\", linestyle = 'dashed')\n",
    "display_text = \"Optimal MSE=\" + str(round(best_params[str(optimum_features)][0], 2)) + \",\\nNum Features=\" + str(optimum_features)\n",
    "_ = plt.text(optimum_features, 30, display_text)"
   ]
  },
  {
   "cell_type": "code",
   "execution_count": 28,
   "metadata": {},
   "outputs": [],
   "source": [
    "# Store results for comparison in the end\n",
    "final_mse_vals.append(round(best_params[str(optimum_features)][0],2))\n",
    "models.append(\"Forward Selection\")\n",
    "num_features.append(optimum_features)"
   ]
  },
  {
   "cell_type": "code",
   "execution_count": 29,
   "metadata": {},
   "outputs": [
    {
     "name": "stdout",
     "output_type": "stream",
     "text": [
      "Number of features in the least MSE model: 17\n",
      "MSE Value:  16.24949366080035\n",
      "Features in the model:\n",
      " ['LSTAT', 'E7', 'RM', 'PTRATIO', 'E9', 'CRIM', 'DIS', 'NOX', 'B1', 'B', 'RAD', 'E2', 'E10', 'E6', 'INDUS', 'CHAS', 'E4']\n"
     ]
    }
   ],
   "source": [
    "print(\"Number of features in the least MSE model:\", min_param)\n",
    "print(\"MSE Value: \", best_params[min_param][0])\n",
    "print(\"Features in the model:\\n\", best_params[min_param][1])"
   ]
  },
  {
   "cell_type": "code",
   "execution_count": 30,
   "metadata": {
    "scrolled": true
   },
   "outputs": [
    {
     "name": "stdout",
     "output_type": "stream",
     "text": [
      "Number of features in the optimal model: 10\n",
      "MSE Value:  17.097856694010638\n",
      "Features in the model:\n",
      " ['LSTAT', 'E7', 'RM', 'PTRATIO', 'E9', 'CRIM', 'DIS', 'NOX', 'B1', 'B']\n"
     ]
    }
   ],
   "source": [
    "print(\"Number of features in the optimal model:\", optimum_features)\n",
    "print(\"MSE Value: \", best_params[str(optimum_features)][0])\n",
    "print(\"Features in the model:\\n\", best_params[str(optimum_features)][1])"
   ]
  },
  {
   "cell_type": "markdown",
   "metadata": {},
   "source": [
    "**Here we choose the optimal number of features to be 10, since the drop in MSE beyond that is not significant. **"
   ]
  },
  {
   "cell_type": "markdown",
   "metadata": {},
   "source": [
    "### 4. Principal components ###"
   ]
  },
  {
   "cell_type": "markdown",
   "metadata": {},
   "source": [
    "#### 4.1 Use raw features ####"
   ]
  },
  {
   "cell_type": "markdown",
   "metadata": {},
   "source": [
    "#### 1. Consult James et al. (2015) sections 6.3 and 10.2. ####\n",
    "#### 2. Perform Principal Component Analysis on all the features in your data (except the target (price) medv). ####\n",
    "#### Extract all components (the number should equal to the number of features) and report: ####"
   ]
  },
  {
   "cell_type": "code",
   "execution_count": 31,
   "metadata": {},
   "outputs": [
    {
     "data": {
      "text/plain": [
       "PCA(copy=True, iterated_power='auto', n_components=None, random_state=1,\n",
       "  svd_solver='auto', tol=0.0, whiten=False)"
      ]
     },
     "execution_count": 31,
     "metadata": {},
     "output_type": "execute_result"
    }
   ],
   "source": [
    "X = boston_df[boston_df.columns.difference(['MEDV'])]\n",
    "pca = PCA(random_state=1)\n",
    "pca.fit(X)"
   ]
  },
  {
   "cell_type": "markdown",
   "metadata": {},
   "source": [
    "#### (a) Variance explained by each component  ####"
   ]
  },
  {
   "cell_type": "code",
   "execution_count": 32,
   "metadata": {},
   "outputs": [
    {
     "data": {
      "text/plain": [
       "array([3.80442685e+07, 2.14252580e+06, 1.22469020e+05, 3.71862375e+04,\n",
       "       8.39015977e+03, 3.73819303e+03, 7.38666445e+02, 3.66468182e+02,\n",
       "       2.59230666e+02, 4.59907210e+01, 1.54847797e+01, 1.01457914e+01,\n",
       "       3.52613815e+00, 1.56352698e+00, 1.18417724e+00, 6.14534396e-01,\n",
       "       2.94788079e-01, 2.23958985e-01, 1.04696087e-01, 5.87029410e-02,\n",
       "       5.45894008e-02, 4.56303652e-02, 2.94865398e-02, 2.49748520e-02,\n",
       "       3.92920611e-03, 3.80132005e-03, 9.68103063e-04, 4.86509123e-04,\n",
       "       2.73092187e-04, 1.28779174e-04, 1.13636989e-04, 4.28122627e-05,\n",
       "       7.26168870e-06])"
      ]
     },
     "execution_count": 32,
     "metadata": {},
     "output_type": "execute_result"
    }
   ],
   "source": [
    "pca.explained_variance_"
   ]
  },
  {
   "cell_type": "markdown",
   "metadata": {},
   "source": [
    "#### (b) Proportional variance explained by each component   ####"
   ]
  },
  {
   "cell_type": "code",
   "execution_count": 33,
   "metadata": {},
   "outputs": [
    {
     "data": {
      "text/plain": [
       "array([9.42622599e-01, 5.30853483e-02, 3.03441415e-03, 9.21363171e-04,\n",
       "       2.07882936e-04, 9.26211850e-05, 1.83019338e-05, 9.07997984e-06,\n",
       "       6.42295658e-06, 1.13951180e-06, 3.83666289e-07, 2.51382210e-07,\n",
       "       8.73671027e-08, 3.87394981e-08, 2.93403521e-08, 1.52263148e-08,\n",
       "       7.30396237e-09, 5.54903035e-09, 2.59405429e-09, 1.45448240e-09,\n",
       "       1.35256124e-09, 1.13058327e-09, 7.30587810e-10, 6.18801750e-10,\n",
       "       9.73539150e-11, 9.41852828e-11, 2.39866835e-11, 1.20542335e-11,\n",
       "       6.76640339e-12, 3.19076078e-12, 2.81558297e-12, 1.06075916e-12,\n",
       "       1.79922815e-13])"
      ]
     },
     "execution_count": 33,
     "metadata": {},
     "output_type": "execute_result"
    }
   ],
   "source": [
    "pca.explained_variance_ratio_"
   ]
  },
  {
   "cell_type": "code",
   "execution_count": 34,
   "metadata": {},
   "outputs": [
    {
     "data": {
      "image/png": "[encoded data removed]",
      "text/plain": [
       "<matplotlib.figure.Figure at 0x2590bd084e0>"
      ]
     },
     "metadata": {},
     "output_type": "display_data"
    }
   ],
   "source": [
    "plt.figure(figsize=(10,6))\n",
    "plt.xlabel(\"Principal Component Number\")\n",
    "plt.ylabel(\"Explained Proportion of Variance\")\n",
    "plt.title(\"Scree Plot: Principal Components (first 10) vs Proportional Variance Explained\")\n",
    "_ = plt.bar([(i+1) for i in range(10)], pca.explained_variance_ratio_[:10])"
   ]
  },
  {
   "cell_type": "code",
   "execution_count": 35,
   "metadata": {
    "scrolled": false
   },
   "outputs": [
    {
     "data": {
      "image/png": "[encoded data removed]",
      "text/plain": [
       "<matplotlib.figure.Figure at 0x2590ba59780>"
      ]
     },
     "metadata": {},
     "output_type": "display_data"
    }
   ],
   "source": [
    "plt.figure(figsize=(10,6))\n",
    "plt.xlabel(\"Principal Component Number\")\n",
    "plt.ylabel(\"Explained Proportion of Variance (Log Scale)\")\n",
    "plt.title(\"Scree Plot: Principal Components (first 10) vs Proportional Variance Explained (Log scale)\")\n",
    "_ = plt.bar([(i+1) for i in range(10)], pca.explained_variance_ratio_[:10], log = True)"
   ]
  },
  {
   "cell_type": "markdown",
   "metadata": {},
   "source": [
    "#### (c) Cumulative variance explained up to each component. ####"
   ]
  },
  {
   "cell_type": "code",
   "execution_count": 36,
   "metadata": {
    "scrolled": true
   },
   "outputs": [
    {
     "data": {
      "text/plain": [
       "array([0.9426226 , 0.99570795, 0.99874236, 0.99966372, 0.99987161,\n",
       "       0.99996423, 0.99998253, 0.99999161, 0.99999803, 0.99999917,\n",
       "       0.99999956, 0.99999981, 0.9999999 , 0.99999993, 0.99999996,\n",
       "       0.99999998, 0.99999999, 0.99999999, 0.99999999, 1.        ,\n",
       "       1.        , 1.        , 1.        , 1.        , 1.        ,\n",
       "       1.        , 1.        , 1.        , 1.        , 1.        ,\n",
       "       1.        , 1.        , 1.        ])"
      ]
     },
     "execution_count": 36,
     "metadata": {},
     "output_type": "execute_result"
    }
   ],
   "source": [
    "pca.explained_variance_ratio_.cumsum()"
   ]
  },
  {
   "cell_type": "markdown",
   "metadata": {},
   "source": [
    "#### 3. Rotate data: rotate the original features according to the principal components. ####"
   ]
  },
  {
   "cell_type": "code",
   "execution_count": 37,
   "metadata": {},
   "outputs": [],
   "source": [
    "X_rot = pca.fit_transform(X)"
   ]
  },
  {
   "cell_type": "markdown",
   "metadata": {},
   "source": [
    "#### 4. Find the optimal model in rotated data: estimate the regression model explaining the housing value by the rotated features. Start with the first (most important) rotated feature and add rotated features to the model one-by-one. Each time cross-validate your result. ####"
   ]
  },
  {
   "cell_type": "code",
   "execution_count": 38,
   "metadata": {},
   "outputs": [],
   "source": [
    "# Function to find the optimal model based on the rotated features (ordered by the proportion of variance that they explain).\n",
    "def find_optimal_model(X_rot, Y, indices):\n",
    "    num_iter = X_rot.shape[1]\n",
    "    min_mse = 1e10  # initial, arbitrarily large value of MSE\n",
    "    num_comp = 0  # to store the number of components for minimum MSE\n",
    "    mse = np.empty(num_iter)  # array to store MSE values\n",
    "    for i in range(num_iter):\n",
    "        x = X_rot[:,:i+1]   # extract rotated features, one more than the previous iteration\n",
    "        mse_current = perform_k_fold(indices, x, Y, 10)  # perform CV\n",
    "        mse[i] = mse_current\n",
    "        if mse_current < min_mse:\n",
    "            # update the minimum MSE achieved\n",
    "            min_mse = mse_current\n",
    "            num_comp = i+1\n",
    "    return mse, min_mse, num_comp\n",
    "    "
   ]
  },
  {
   "cell_type": "code",
   "execution_count": 39,
   "metadata": {},
   "outputs": [],
   "source": [
    "mse, min_mse, num_comp = find_optimal_model(X_rot, Y, indices)"
   ]
  },
  {
   "cell_type": "code",
   "execution_count": 40,
   "metadata": {
    "scrolled": true
   },
   "outputs": [
    {
     "name": "stdout",
     "output_type": "stream",
     "text": [
      "Min MSE: 16.722436204817082\n",
      "Min number of components: 26\n"
     ]
    }
   ],
   "source": [
    "print(\"Min MSE:\", min_mse)\n",
    "print(\"Min number of components:\", num_comp)"
   ]
  },
  {
   "cell_type": "markdown",
   "metadata": {},
   "source": [
    "#### 5. Show a plot how cross-validated MSE depends on the number of components. Which number of components will give you the  smallest MSE?####"
   ]
  },
  {
   "cell_type": "code",
   "execution_count": 41,
   "metadata": {},
   "outputs": [],
   "source": [
    "# Store results for comparison in the end\n",
    "optimum_features_pca = 10\n",
    "final_mse_vals.append(round(mse[optimum_features_pca - 1],2))\n",
    "models.append(\"PCA- Raw Features\")\n",
    "num_features.append(optimum_features_pca)"
   ]
  },
  {
   "cell_type": "code",
   "execution_count": 42,
   "metadata": {},
   "outputs": [],
   "source": [
    "def plot_mse_with_pc(num_comp, mse, min_mse, optimum_features):\n",
    "    plt.figure(figsize=(10,6))\n",
    "    plt.plot([i+1 for i in range(X_rot.shape[1])], mse, marker='o', linestyle='dashed', linewidth=2, markersize=4)\n",
    "    plt.xlabel(\"Number of components\")\n",
    "    plt.ylabel(\"Mean Squared Error\")\n",
    "    plt.title(\"MSE vs Number of Principal Components\")\n",
    "    plt.axvline(x=num_comp, color = \"green\", linestyle = 'dashed')\n",
    "    display_text = \"Min MSE=\" + str(round(min_mse, 2)) + \",\\nComponents=\" + str(num_comp)\n",
    "    _ = plt.text(num_comp, 30, display_text)\n",
    "    plt.axvline(x=optimum_features, color = \"blue\", linestyle = 'dashed')\n",
    "    display_text = \"Optimal MSE=\" + str(round(mse[optimum_features - 1], 2)) + \",\\nComponents=\" + str(optimum_features)\n",
    "    _ = plt.text(optimum_features, 30, display_text)"
   ]
  },
  {
   "cell_type": "code",
   "execution_count": 43,
   "metadata": {
    "scrolled": false
   },
   "outputs": [
    {
     "data": {
      "image/png": "[encoded data removed]",
      "text/plain": [
       "<matplotlib.figure.Figure at 0x2590c1169e8>"
      ]
     },
     "metadata": {},
     "output_type": "display_data"
    }
   ],
   "source": [
    "plot_mse_with_pc(num_comp, mse, min_mse, optimum_features_pca)"
   ]
  },
  {
   "cell_type": "code",
   "execution_count": 44,
   "metadata": {
    "scrolled": true
   },
   "outputs": [
    {
     "name": "stdout",
     "output_type": "stream",
     "text": [
      "Optimal MSE: 28.33335017234894\n",
      "Optimal number of components: 10\n"
     ]
    }
   ],
   "source": [
    "print(\"Optimal MSE:\", mse[9])\n",
    "print(\"Optimal number of components:\", optimum_features_pca)"
   ]
  },
  {
   "cell_type": "markdown",
   "metadata": {},
   "source": [
    "**Here again, we choose the optimal number of transformed features to be 10, where the steepest drop in MSE ends. We avoid going for the lowest MSE value since that would mean compromising on compactness of the model quite a bit.**"
   ]
  },
  {
   "cell_type": "markdown",
   "metadata": {},
   "source": [
    "#### 4.2 PCA on normalized data ####"
   ]
  },
  {
   "cell_type": "code",
   "execution_count": 45,
   "metadata": {},
   "outputs": [],
   "source": [
    "# Function to normalize a given vector of values\n",
    "def normalize_feature(x):\n",
    "    return (x - np.mean(x))/np.std(x)"
   ]
  },
  {
   "cell_type": "code",
   "execution_count": 46,
   "metadata": {},
   "outputs": [],
   "source": [
    "# Function to normalize the entire feature set\n",
    "def normalize_data_set(X):\n",
    "    for i in range(X.shape[1]):\n",
    "        X[:,i] = normalize_feature(X[:,i])  # update each feature\n",
    "    return X"
   ]
  },
  {
   "cell_type": "code",
   "execution_count": 47,
   "metadata": {},
   "outputs": [],
   "source": [
    "Xn = normalize_data_set(boston_df[boston_df.columns.difference(['MEDV'])].as_matrix())"
   ]
  },
  {
   "cell_type": "markdown",
   "metadata": {},
   "source": [
    "#### 1. Perform Principal Component Analysis on the normalized features. ####"
   ]
  },
  {
   "cell_type": "code",
   "execution_count": 48,
   "metadata": {},
   "outputs": [
    {
     "data": {
      "text/plain": [
       "PCA(copy=True, iterated_power='auto', n_components=None, random_state=None,\n",
       "  svd_solver='auto', tol=0.0, whiten=False)"
      ]
     },
     "execution_count": 48,
     "metadata": {},
     "output_type": "execute_result"
    }
   ],
   "source": [
    "pca_n = PCA()\n",
    "pca_n.fit(Xn)"
   ]
  },
  {
   "cell_type": "markdown",
   "metadata": {},
   "source": [
    "#### a) Variance explained by each component ####"
   ]
  },
  {
   "cell_type": "code",
   "execution_count": 49,
   "metadata": {},
   "outputs": [
    {
     "data": {
      "text/plain": [
       "array([1.07163507e+01, 5.14878549e+00, 2.37191766e+00, 2.26810196e+00,\n",
       "       2.04482754e+00, 1.71177048e+00, 1.27683221e+00, 1.07336004e+00,\n",
       "       9.94954490e-01, 9.25556843e-01, 7.77768570e-01, 6.47534905e-01,\n",
       "       5.10340249e-01, 4.69664493e-01, 3.64239059e-01, 3.33393030e-01,\n",
       "       3.20151212e-01, 2.06802610e-01, 1.81598126e-01, 1.62454051e-01,\n",
       "       1.24398301e-01, 1.07861798e-01, 1.01013295e-01, 8.70203041e-02,\n",
       "       6.89987935e-02, 3.41289318e-02, 1.68803068e-02, 5.84268393e-03,\n",
       "       5.47199151e-03, 3.44999126e-03, 2.06214749e-03, 1.69022584e-03,\n",
       "       1.24001508e-04])"
      ]
     },
     "execution_count": 49,
     "metadata": {},
     "output_type": "execute_result"
    }
   ],
   "source": [
    "pca_n.explained_variance_"
   ]
  },
  {
   "cell_type": "markdown",
   "metadata": {},
   "source": [
    "#### (b) Proportional variance explained by each component ####"
   ]
  },
  {
   "cell_type": "code",
   "execution_count": 50,
   "metadata": {},
   "outputs": [
    {
     "data": {
      "text/plain": [
       "array([3.24096127e-01, 1.55715455e-01, 7.17342448e-02, 6.85945317e-02,\n",
       "       6.18420116e-02, 5.17693191e-02, 3.86154190e-02, 3.24617812e-02,\n",
       "       3.00905508e-02, 2.79917479e-02, 2.35221660e-02, 1.95834907e-02,\n",
       "       1.54342931e-02, 1.42041304e-02, 1.10157339e-02, 1.00828531e-02,\n",
       "       9.68237884e-03, 6.25436089e-03, 5.49209808e-03, 4.91312108e-03,\n",
       "       3.76219559e-03, 3.26207977e-03, 3.05495951e-03, 2.63176749e-03,\n",
       "       2.08674037e-03, 1.03216616e-03, 5.10513531e-04, 1.76701125e-04,\n",
       "       1.65490221e-04, 1.04338579e-04, 6.23658213e-05, 5.11177417e-05,\n",
       "       3.75019532e-06])"
      ]
     },
     "execution_count": 50,
     "metadata": {},
     "output_type": "execute_result"
    }
   ],
   "source": [
    "pca_n.explained_variance_ratio_"
   ]
  },
  {
   "cell_type": "code",
   "execution_count": 51,
   "metadata": {},
   "outputs": [
    {
     "data": {
      "image/png": "[encoded data removed]",
      "text/plain": [
       "<matplotlib.figure.Figure at 0x2590c2b3080>"
      ]
     },
     "metadata": {},
     "output_type": "display_data"
    }
   ],
   "source": [
    "plt.figure(figsize=(10,6))\n",
    "plt.xlabel(\"Principal Component Number\")\n",
    "plt.ylabel(\"Explained Proportion of Variance\")\n",
    "plt.title(\"Scree Plot: Principal Components (first 15) vs Proportional Variance Explained\\n(Normalized Data)\")\n",
    "_ = plt.bar([(i+1) for i in range(15)], pca_n.explained_variance_ratio_[:15])"
   ]
  },
  {
   "cell_type": "markdown",
   "metadata": {},
   "source": [
    "#### (c) Cumulative variance explained up to each component. ####"
   ]
  },
  {
   "cell_type": "code",
   "execution_count": 52,
   "metadata": {},
   "outputs": [
    {
     "data": {
      "text/plain": [
       "array([0.32409613, 0.47981158, 0.55154583, 0.62014036, 0.68198237,\n",
       "       0.73375169, 0.77236711, 0.80482889, 0.83491944, 0.86291119,\n",
       "       0.88643335, 0.90601684, 0.92145114, 0.93565527, 0.946671  ,\n",
       "       0.95675385, 0.96643623, 0.97269059, 0.97818269, 0.98309581,\n",
       "       0.98685801, 0.99012009, 0.99317505, 0.99580682, 0.99789356,\n",
       "       0.99892572, 0.99943624, 0.99961294, 0.99977843, 0.99988277,\n",
       "       0.99994513, 0.99999625, 1.        ])"
      ]
     },
     "execution_count": 52,
     "metadata": {},
     "output_type": "execute_result"
    }
   ],
   "source": [
    "pca_n.explained_variance_ratio_.cumsum()"
   ]
  },
  {
   "cell_type": "markdown",
   "metadata": {},
   "source": [
    "#### 2. Rotate data: rotate the original features according to the principal components ####"
   ]
  },
  {
   "cell_type": "code",
   "execution_count": 53,
   "metadata": {},
   "outputs": [],
   "source": [
    "Xn_rot = pca_n.fit_transform(Xn)"
   ]
  },
  {
   "cell_type": "markdown",
   "metadata": {},
   "source": [
    "#### 3. Find the optimal model ####"
   ]
  },
  {
   "cell_type": "code",
   "execution_count": 54,
   "metadata": {},
   "outputs": [],
   "source": [
    "mse, min_mse, num_comp = find_optimal_model(Xn_rot, Y, indices)"
   ]
  },
  {
   "cell_type": "code",
   "execution_count": 55,
   "metadata": {},
   "outputs": [
    {
     "name": "stdout",
     "output_type": "stream",
     "text": [
      "Minimum MSE: 17.093934279414352\n",
      "Number of features for min MSE: 33\n"
     ]
    }
   ],
   "source": [
    "print(\"Minimum MSE:\", mse[32])\n",
    "print(\"Number of features for min MSE:\", num_comp)"
   ]
  },
  {
   "cell_type": "code",
   "execution_count": 56,
   "metadata": {},
   "outputs": [],
   "source": [
    "# Store results for comparison in the end\n",
    "optimum_features_pca_norm = 6\n",
    "final_mse_vals.append(round(mse[optimum_features_pca_norm - 1],2))\n",
    "models.append(\"PCA- Normalized Features\")\n",
    "num_features.append(optimum_features_pca_norm)"
   ]
  },
  {
   "cell_type": "code",
   "execution_count": 57,
   "metadata": {
    "scrolled": false
   },
   "outputs": [
    {
     "data": {
      "image/png": "[encoded data removed]",
      "text/plain": [
       "<matplotlib.figure.Figure at 0x2590c18ad30>"
      ]
     },
     "metadata": {},
     "output_type": "display_data"
    }
   ],
   "source": [
    "plot_mse_with_pc(num_comp, mse, min_mse, optimum_features_pca_norm)"
   ]
  },
  {
   "cell_type": "code",
   "execution_count": 58,
   "metadata": {},
   "outputs": [
    {
     "name": "stdout",
     "output_type": "stream",
     "text": [
      "Optimal MSE: 26.644798649160048\n",
      "Number of features for optimal MSE: 6\n"
     ]
    }
   ],
   "source": [
    "print(\"Optimal MSE:\", mse[optimum_features_pca_norm - 1])\n",
    "print(\"Number of features for optimal MSE:\", optimum_features_pca_norm)"
   ]
  },
  {
   "cell_type": "markdown",
   "metadata": {},
   "source": [
    "**We choose the optimal number of transformed features to be 6, where the steepest drop in the MSE curve ends, similar to the raw features case, so as to obtain a compact model.**"
   ]
  },
  {
   "cell_type": "markdown",
   "metadata": {},
   "source": [
    "#### 4.3 What's the best solution? ####\n",
    "#### Compare all your results: full model, forward selection, PCA on raw data, and PCA on normalized data. Which one is most precise? Which one is most compact? Which one is the easiest to do? Which one is the most straightforward to interpret? ####"
   ]
  },
  {
   "cell_type": "code",
   "execution_count": 59,
   "metadata": {},
   "outputs": [
    {
     "data": {
      "text/html": [
       "<div>\n",
       "<style scoped>\n",
       "    .dataframe tbody tr th:only-of-type {\n",
       "        vertical-align: middle;\n",
       "    }\n",
       "\n",
       "    .dataframe tbody tr th {\n",
       "        vertical-align: top;\n",
       "    }\n",
       "\n",
       "    .dataframe thead th {\n",
       "        text-align: right;\n",
       "    }\n",
       "</style>\n",
       "<table border=\"1\" class=\"dataframe\">\n",
       "  <thead>\n",
       "    <tr style=\"text-align: right;\">\n",
       "      <th></th>\n",
       "      <th>Number of Features</th>\n",
       "      <th>Optimal MSE</th>\n",
       "    </tr>\n",
       "    <tr>\n",
       "      <th>Model</th>\n",
       "      <th></th>\n",
       "      <th></th>\n",
       "    </tr>\n",
       "  </thead>\n",
       "  <tbody>\n",
       "    <tr>\n",
       "      <th>Full Model</th>\n",
       "      <td>33</td>\n",
       "      <td>17.09</td>\n",
       "    </tr>\n",
       "    <tr>\n",
       "      <th>Forward Selection</th>\n",
       "      <td>10</td>\n",
       "      <td>17.10</td>\n",
       "    </tr>\n",
       "    <tr>\n",
       "      <th>PCA- Raw Features</th>\n",
       "      <td>10</td>\n",
       "      <td>28.33</td>\n",
       "    </tr>\n",
       "    <tr>\n",
       "      <th>PCA- Normalized Features</th>\n",
       "      <td>6</td>\n",
       "      <td>26.64</td>\n",
       "    </tr>\n",
       "  </tbody>\n",
       "</table>\n",
       "</div>"
      ],
      "text/plain": [
       "                          Number of Features  Optimal MSE\n",
       "Model                                                    \n",
       "Full Model                                33        17.09\n",
       "Forward Selection                         10        17.10\n",
       "PCA- Raw Features                         10        28.33\n",
       "PCA- Normalized Features                   6        26.64"
      ]
     },
     "execution_count": 59,
     "metadata": {},
     "output_type": "execute_result"
    }
   ],
   "source": [
    "comparison_df = pd.DataFrame({'Model': models, 'Number of Features': num_features, 'Optimal MSE': final_mse_vals},\n",
    "                            columns=['Model', 'Number of Features', 'Optimal MSE'])\n",
    "comparison_df = comparison_df.set_index('Model')\n",
    "comparison_df"
   ]
  },
  {
   "cell_type": "markdown",
   "metadata": {},
   "source": [
    "* We see above that in terms of precision, the model based on Forward Selection is the best, with the lowest mean quadratic loss using 10 features (the full model has a similar MSE, but uses a lot more features).\n",
    "* The most compact model is based on PCA with Normalized Features. It gives an acceptable level of mean quadratic loss with just 6 features.\n",
    "* The Full Model was the easiest to do, since the other models involved figuring out an optimal set of features and therefore required more analysis and computations.\n",
    "* The Forward Selection model was the most straightforward to interpret, since it resulted in a small number of important features for predicting median house value,  disregarding the bogus features introduced. The PCA models also did something similar, however, these mapped the features into principal components, whose interpretability in terms of the original features is difficult."
   ]
  },
  {
   "cell_type": "code",
   "execution_count": null,
   "metadata": {},
   "outputs": [],
   "source": []
  }
 ],
 "metadata": {
  "kernelspec": {
   "display_name": "Python 3",
   "language": "python",
   "name": "python3"
  },
  "language_info": {
   "codemirror_mode": {
    "name": "ipython",
    "version": 3
   },
   "file_extension": ".py",
   "mimetype": "text/x-python",
   "name": "python",
   "nbconvert_exporter": "python",
   "pygments_lexer": "ipython3",
   "version": "3.6.4"
  }
 },
 "nbformat": 4,
 "nbformat_minor": 2
}
